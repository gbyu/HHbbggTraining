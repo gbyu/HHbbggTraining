{
 "cells": [
  {
   "cell_type": "code",
   "execution_count": 1,
   "metadata": {},
   "outputs": [
    {
     "name": "stdout",
     "output_type": "stream",
     "text": [
      "Welcome to JupyROOT 6.13/02\n"
     ]
    },
    {
     "data": {
      "text/plain": [
       "<module 'postprocessing_utils' from '/home/ovtin/cernbox/HHggbb/HHbbgg_ETH_devel/Training/python/postprocessing_utils.pyc'>"
      ]
     },
     "execution_count": 1,
     "metadata": {},
     "output_type": "execute_result"
    }
   ],
   "source": [
    "import os\n",
    "import sys; sys.path.append(\"/home/ovtin/cernbox/HHggbb/HHbbgg_ETH_devel/Training/python\") # to load packages\n",
    "import training_utils as utils\n",
    "import numpy as np\n",
    "reload(utils)\n",
    "import preprocessing_utils as preprocessing\n",
    "reload(preprocessing)\n",
    "import plotting_utils as plotting\n",
    "reload(plotting)\n",
    "import optimization_utils as optimization\n",
    "reload(optimization)\n",
    "import postprocessing_utils as postprocessing\n",
    "reload(postprocessing)\n"
   ]
  },
  {
   "cell_type": "code",
   "execution_count": 2,
   "metadata": {},
   "outputs": [
    {
     "name": "stdout",
     "output_type": "stream",
     "text": [
      "env: data=/home/ovtin/cernbox/HHggbb/HHbbgg_ETH_devel/Training/2017/flattrees_st_cuts\n",
      "['output_DiPhotonJetsBox_MGG-80toInf_13TeV-Sherpa_st_cuts.root']\n",
      "11\n",
      "using background file n.0: /home/ovtin/cernbox/HHggbb/HHbbgg_ETH_devel/Training/2017/flattrees_st_cuts/output_DiPhotonJetsBox_MGG-80toInf_13TeV-Sherpa_st_cuts.root\n",
      "using background file n.1: /home/ovtin/cernbox/HHggbb/HHbbgg_ETH_devel/Training/2017/flattrees_st_cuts/output_GJet_Pt-20to40_DoubleEMEnriched_MGG-80toInf_TuneCP5_13TeV_Pythia8_st_cuts.root\n",
      "using background file n.2: /home/ovtin/cernbox/HHggbb/HHbbgg_ETH_devel/Training/2017/flattrees_st_cuts/output_GJet_Pt-40toInf_DoubleEMEnriched_MGG-80toInf_TuneCP5_13TeV_Pythia8_st_cuts.root\n",
      "using background file n.3: /home/ovtin/cernbox/HHggbb/HHbbgg_ETH_devel/Training/2017/flattrees_st_cuts/output_GluGluHToGG_M-125_13TeV_powheg_pythia8_st_cuts.root\n",
      "using background file n.4: /home/ovtin/cernbox/HHggbb/HHbbgg_ETH_devel/Training/2017/flattrees_st_cuts/output_VBFHToGG_M-125_13TeV_powheg_pythia8_st_cuts.root\n",
      "using background file n.5: /home/ovtin/cernbox/HHggbb/HHbbgg_ETH_devel/Training/2017/flattrees_st_cuts/output_VHToGG_M125_13TeV_amcatnloFXFX_madspin_pythia8_st_cuts.root\n",
      "using background file n.6: /home/ovtin/cernbox/HHggbb/HHbbgg_ETH_devel/Training/2017/flattrees_st_cuts/output_bbHToGG_M-125_4FS_yb2_13TeV_amcatnlo.root\n",
      "using background file n.7: /home/ovtin/cernbox/HHggbb/HHbbgg_ETH_devel/Training/2017/flattrees_st_cuts/output_ttHToGG_M125_13TeV_powheg_pythia8_st_cuts.root\n",
      "using background file n.8: /home/ovtin/cernbox/HHggbb/HHbbgg_ETH_devel/Training/2017/flattrees_st_cuts/output_VBFHToGG_M125_13TeV_amcatnlo_pythia8_st_cuts.root\n",
      "using background file n.9: /home/ovtin/cernbox/HHggbb/HHbbgg_ETH_devel/Training/2017/flattrees_st_cuts/output_GJet_Pt-20to40_DoubleEMEnriched_MGG-80toInf_TuneCP5_13TeV_Pythia8_st_cuts.root\n",
      "using background file n.10: /home/ovtin/cernbox/HHggbb/HHbbgg_ETH_devel/Training/2017/flattrees_st_cuts/output_GJet_Pt-40toInf_DoubleEMEnriched_MGG-80toInf_TuneCP5_13TeV_Pythia8_st_cuts.root\n",
      "using signal file n.0: /home/ovtin/cernbox/HHggbb/HHbbgg_ETH_devel/Training/2017/flattrees_st_cuts/output_GluGluToHHTo2B2G_node_SM_13TeV-madgraph_st_cuts.root\n",
      "using data file: /home/ovtin/cernbox/HHggbb/HHbbgg_ETH_devel/Training/2017/flattrees_st_cuts/DoubleEG_2017_st_cuts.root\n"
     ]
    }
   ],
   "source": [
    "reload(utils)\n",
    "reload(preprocessing)\n",
    "reload(plotting)\n",
    "reload(optimization)\n",
    "reload(postprocessing)\n",
    "#ntuples = '2016'\n",
    "#ntuples = '2017'\n",
    "ntuples = '2017/flattrees_st_cuts'\n",
    "#ntuples = '2017/flattrees_st_cuts_ptMjj'\n",
    "# \"%\" sign allows to interpret the rest as a system command\n",
    "%env data=$utils.IO.ldata$ntuples\n",
    "files = ! ls $data | sort -t_ -k 3 -n\n",
    "#pick only SM\n",
    "#signal = [s for s in files if \"output_GluGluToHHTo2B2G_node_SM_13TeV-madgraph_2016.root\" in s]\n",
    "#diphotonJets = [s for s in files if \"DoubleEG_2016.root\" in s]\n",
    "#signal = [s for s in files if \"output_GluGluToHHTo2B2G_node_SM_13TeV-madgraph_2017.root\" in s]\n",
    "#\n",
    "#signal = [s for s in files if \"output_GluGluToHHTo2B2G_node_SM_13TeV-madgraph_st_cuts.root\" in s]\n",
    "#diphotonJets = [s for s in files if \"output_DiPhotonJetsBox_MGG-80toInf_13TeV-Sherpa_st_cuts.root\" in s]\n",
    "#gJets_lowPt = [s for s in files if \"output_GJet_Pt-20to40_DoubleEMEnriched_MGG-80toInf_TuneCP5_13TeV_Pythia8_st_cuts.root\" in s]\n",
    "#gJets_highPt = [s for s in files if \"output_GJet_Pt-40toInf_DoubleEMEnriched_MGG-80toInf_TuneCP5_13TeV_Pythia8_st_cuts.root\" in s]\n",
    "#\n",
    "#signal = [s for s in files if \"output_GluGluToHHTo2B2G_node_SM_13TeV-madgraph_st_cuts_ptMjj.root\" in s]\n",
    "#diphotonJets = [s for s in files if \"output_DiPhotonJetsBox_MGG-80toInf_13TeV-Sherpa_st_cuts_ptMjj.root\" in s]\n",
    "#gJets_lowPt = [s for s in files if \"output_GJet_Pt-20to40_DoubleEMEnriched_MGG-80toInf_TuneCP5_13TeV_Pythia8_st_cuts_ptMjj.root\" in s]\n",
    "#gJets_highPt = [s for s in files if \"output_GJet_Pt-40toInf_DoubleEMEnriched_MGG-80toInf_TuneCP5_13TeV_Pythia8_st_cuts_ptMjj.root\" in s]\n",
    "#\n",
    "signal = [s for s in files if \"output_GluGluToHHTo2B2G_node_SM_13TeV-madgraph_st_cuts\" in s]\n",
    "diphotonJets = [s for s in files if \"output_DiPhotonJetsBox_\" in s]\n",
    "gJets_lowPt = [s for s in files if \"output_GJet_Pt-20to40_DoubleEMEnriched_MGG-80toInf_TuneCP5_13TeV_Pythia8_st_cuts\" in s]\n",
    "gJets_highPt = [s for s in files if \"output_GJet_Pt-40toInf_DoubleEMEnriched_MGG-80toInf_TuneCP5_13TeV_Pythia8_st_cut\" in s]\n",
    "ggH = [s for s in files if \"output_GluGluHToGG_\" in s]\n",
    "vbf = [s for s in files if \"output_VBFHToGG_M-125_13TeV_powheg_pythia8_st_cuts\" in s]\n",
    "VH = [s for s in files if \"output_VHToGG_\" in s]\n",
    "bbH = [s for s in files if \"output_bbHToGG_M-125_4FS_yb2\" in s] #is this correct?\n",
    "ttH = [s for s in files if \"output_ttHToGG_\" in s]\n",
    "vbf2 = [s for s in files if \"output_VBFHToGG_M125_13TeV_amcatnlo_pythia8_st_cuts\" in s]\n",
    "\n",
    "Data= [s for s in files if \"DoubleEG_2017_st_cuts\" in s]\n",
    "\n",
    "utils.IO.add_signal(ntuples,signal,1)\n",
    "print diphotonJets\n",
    "utils.IO.add_background(ntuples,diphotonJets,-1)\n",
    "utils.IO.add_background(ntuples,gJets_lowPt,-2)\n",
    "utils.IO.add_background(ntuples,gJets_highPt,-2)\n",
    "utils.IO.add_background(ntuples,ggH,-3)\n",
    "utils.IO.add_background(ntuples,vbf,-4)\n",
    "utils.IO.add_background(ntuples,VH,-5)\n",
    "utils.IO.add_background(ntuples,bbH,-6)\n",
    "utils.IO.add_background(ntuples,ttH,-7)\n",
    "utils.IO.add_background(ntuples,vbf2,-8)\n",
    "\n",
    "nBkg = len(utils.IO.backgroundName)\n",
    "print nBkg\n",
    "\n",
    "utils.IO.add_data(ntuples,Data,-10)\n",
    "\n",
    "#add all nodes\n",
    "nodes = []\n",
    "#for i in range(2,14):\n",
    "#    nodes.append([s for s in files if \"output_GluGluToHHTo2B2G_node_SM_13TeV-madgraph_2016\"+str(i) in s])\n",
    "##    nodes.append([s for s in files if \"GluGluToHHTo2B2G_node_\"+str(i) in s])\n",
    "for i in range(len(utils.IO.backgroundName),len(utils.IO.backgroundName)+len(nodes)):\n",
    "    utils.IO.add_background(ntuples,nodes[i-nBkg],-i) \n",
    "    \n",
    "\n",
    "for i in range(len(utils.IO.backgroundName)):        \n",
    "    print \"using background file n.\"+str(i)+\": \"+utils.IO.backgroundName[i]\n",
    "for i in range(len(utils.IO.signalName)):    \n",
    "    print \"using signal file n.\"+str(i)+\": \"+utils.IO.signalName[i]\n",
    "print \"using data file: \"+ utils.IO.dataName[0]\n"
   ]
  },
  {
   "cell_type": "code",
   "execution_count": 3,
   "metadata": {},
   "outputs": [
    {
     "name": "stdout",
     "output_type": "stream",
     "text": [
      "['absCosThetaStar_CS', 'absCosTheta_bb', 'absCosTheta_gg', 'PhoJetMinDr', 'customLeadingPhotonIDMVA', 'customSubLeadingPhotonIDMVA', 'leadingJet_DeepCSV', 'subleadingJet_DeepCSV', 'leadingPhotonSigOverE', 'subleadingPhotonSigOverE', 'sigmaMOverM', 'diphotonCandidatePtOverdiHiggsM', 'dijetCandidatePtOverdiHiggsM', 'leadingJet_bRegNNResolution', 'subleadingJet_bRegNNResolution', 'noexpand:sigmaMJets/Mjj', 'noexpand:leadingPhoton_pt/CMS_hgg_mass', 'noexpand:subleadingPhoton_pt/CMS_hgg_mass', 'noexpand:leadingJet_pt/Mjj', 'noexpand:subleadingJet_pt/Mjj', 'PhoJetotherDr']\n",
      "using tree:bbggSelectionTree\n"
     ]
    }
   ],
   "source": [
    "#use noexpand for root expressions, it needs this file https://github.com/ibab/root_pandas/blob/master/root_pandas/readwrite.py\n",
    "#all the branches you want to save in new trees\n",
    "#standart of input values \n",
    "#branch_names = 'absCosThetaStar_CS,absCosTheta_bb,absCosTheta_gg,PhoJetMinDr,customLeadingPhotonIDMVA,customSubLeadingPhotonIDMVA,leadingJet_DeepCSV,subleadingJet_DeepCSV,leadingPhotonSigOverE,subleadingPhotonSigOverE,sigmaMOverM,diphotonCandidatePtOverdiHiggsM,dijetCandidatePtOverdiHiggsM,leadingJet_bRegNNResolution,subleadingJet_bRegNNResolution,noexpand:sigmaMJets/Mjj'.split(\",\")\n",
    "#st values with adding pt_gg/m_gg\n",
    "#branch_names = 'absCosThetaStar_CS,absCosTheta_bb,absCosTheta_gg,PhoJetMinDr,customLeadingPhotonIDMVA,customSubLeadingPhotonIDMVA,leadingJet_DeepCSV,subleadingJet_DeepCSV,leadingPhotonSigOverE,subleadingPhotonSigOverE,sigmaMOverM,diphotonCandidatePtOverdiHiggsM,dijetCandidatePtOverdiHiggsM,leadingJet_bRegNNResolution,subleadingJet_bRegNNResolution,noexpand:sigmaMJets/Mjj,noexpand:leadingPhoton_pt/CMS_hgg_mass,noexpand:subleadingPhoton_pt/CMS_hgg_mass'.split(\",\")\n",
    "#st values with adding pt_gg/m_gg, pt_jj/M_jj\n",
    "branch_names = 'absCosThetaStar_CS,absCosTheta_bb,absCosTheta_gg,PhoJetMinDr,customLeadingPhotonIDMVA,customSubLeadingPhotonIDMVA,leadingJet_DeepCSV,subleadingJet_DeepCSV,leadingPhotonSigOverE,subleadingPhotonSigOverE,sigmaMOverM,diphotonCandidatePtOverdiHiggsM,dijetCandidatePtOverdiHiggsM,leadingJet_bRegNNResolution,subleadingJet_bRegNNResolution,noexpand:sigmaMJets/Mjj,noexpand:leadingPhoton_pt/CMS_hgg_mass,noexpand:subleadingPhoton_pt/CMS_hgg_mass,noexpand:leadingJet_pt/Mjj,noexpand:subleadingJet_pt/Mjj,PhoJetotherDr'.split(\",\")\n",
    "\n",
    "branch_names = [c.strip() for c in branch_names]\n",
    "print branch_names\n",
    "\n",
    "import pandas as pd  \n",
    "import root_pandas as rpd\n",
    "\n",
    "# no need to shuffle here, we just count events\n",
    "preprocessing.set_signals_and_backgrounds(\"bbggSelectionTree\",branch_names,shuffle=False)\n",
    "X_bkg,y_bkg,weights_bkg,X_sig,y_sig,weights_sig=preprocessing.set_variables(branch_names)\n",
    "\n",
    "X_data,y_data,weights_data = preprocessing.set_data(\"bbggSelectionTree\",branch_names)\n",
    "X_data,y_data,weights_data = preprocessing.clean_signal_events_single_dataset(X_data,y_data,weights_data)\n",
    "\n",
    "#bbggTrees have by default signal and CR events, let's be sure that we clean it\n",
    "X_bkg,y_bkg,weights_bkg,X_sig,y_sig,weights_sig=preprocessing.clean_signal_events(X_bkg,y_bkg,weights_bkg,X_sig,y_sig,weights_sig)\n",
    "\n",
    "#np.savetxt('/home/ovtin/cernbox/HHggbb/HHbbgg_ETH_devel/Training/xbkg.txt',X_bkg)\n",
    "#np.savetxt('/home/ovtin/cernbox/HHggbb/HHbbgg_ETH_devel/Training/weightsbkg.txt',weights_bkg)\n",
    "#preprocessing.adjust_and_compress(utils.IO.background_df[0]).to_csv('/tmp/micheli/bkg.csv')\n"
   ]
  },
  {
   "cell_type": "code",
   "execution_count": 4,
   "metadata": {
    "scrolled": true
   },
   "outputs": [
    {
     "name": "stdout",
     "output_type": "stream",
     "text": [
      "11\n",
      "bkg n:0\n",
      "[[0.22119 0.47644 0.11353 ... 0.53364 0.52329 1.56064]\n",
      " [0.23854 0.09599 0.83316 ... 0.55733 0.52815 2.70928]\n",
      " [0.98966 0.82253 0.55952 ... 0.34747 0.23024 2.02816]\n",
      " ...\n",
      " [0.87899 0.84999 0.17474 ... 0.88542 0.3459  3.3885 ]\n",
      " [0.68217 0.71715 0.4872  ... 0.90933 0.44481 2.70307]\n",
      " [0.88682 0.10089 0.63458 ... 0.69589 0.33051 2.39649]]\n",
      "bkg n:1\n",
      "[[0.99026 0.56159 0.80018 ... 0.48841 0.38174 2.39476]\n",
      " [0.95891 0.33826 0.62518 ... 0.60297 0.36319 2.50875]\n",
      " [0.99282 0.74376 0.64932 ... 0.37277 0.3107  2.86086]\n",
      " ...\n",
      " [0.53567 0.33536 0.00972 ... 0.79105 0.44961 1.62003]\n",
      " [0.01244 0.07198 0.5598  ... 0.98059 0.23855 2.09346]\n",
      " [0.95584 0.79608 0.66779 ... 0.39239 0.21982 2.14914]]\n",
      "bkg n:2\n",
      "[[0.96586 0.204   0.67435 ... 0.61189 0.40944 3.30991]\n",
      " [0.95904 0.93875 0.2944  ... 0.53244 0.32311 4.32613]\n",
      " [0.90743 0.99091 0.64387 ... 0.36039 0.15274 4.14145]\n",
      " ...\n",
      " [0.96871 0.02429 0.23172 ... 0.6847  0.32745 3.17478]\n",
      " [0.64873 0.85294 0.35603 ... 0.41521 0.33777 2.21154]\n",
      " [0.24676 0.99263 0.65195 ... 0.26584 0.16899 2.93314]]\n",
      "bkg n:3\n",
      "[[0.77003 0.86734 0.76107 ... 0.31168 0.27019 3.38955]\n",
      " [0.92429 0.56503 0.44566 ... 0.515   0.36791 2.53241]\n",
      " [0.10929 0.79784 0.68294 ... 0.525   0.38805 2.86486]\n",
      " ...\n",
      " [0.32652 0.83895 0.00828 ... 0.64368 0.52831 2.49598]\n",
      " [0.9108  0.52386 0.11657 ... 0.6434  0.20874 3.03595]\n",
      " [0.93955 0.48785 0.4802  ... 0.8619  0.36766 3.96786]]\n",
      "bkg n:4\n",
      "[[0.54573 0.00422 0.67924 ... 0.63409 0.37821 2.36483]\n",
      " [0.97824 0.93534 0.40248 ... 0.21842 0.14476 4.07841]\n",
      " [0.5373  0.47504 0.52976 ... 1.03583 0.52795 2.07174]\n",
      " ...\n",
      " [0.05526 0.55701 0.46122 ... 0.61268 0.37385 0.9338 ]\n",
      " [0.86108 0.75546 0.38703 ... 0.54587 0.42894 2.70965]\n",
      " [0.23245 0.76177 0.48909 ... 0.60138 0.25428 1.86918]]\n",
      "bkg n:5\n",
      "[[9.57610e-01 6.81750e-01 4.04840e-01 ... 4.74870e-01 2.37390e-01\n",
      "  3.12622e+00]\n",
      " [9.43490e-01 6.72910e-01 6.01010e-01 ... 4.04420e-01 3.11290e-01\n",
      "  2.33982e+00]\n",
      " [9.95890e-01 8.13680e-01 4.86460e-01 ... 3.14240e-01 2.64610e-01\n",
      "  2.03026e+00]\n",
      " ...\n",
      " [7.59170e-01 5.69700e-01 3.59560e-01 ... 6.60210e-01 4.02520e-01\n",
      "  2.17267e+00]\n",
      " [8.71650e-01 5.11800e-01 6.69490e-01 ... 9.96790e-01 4.51510e-01\n",
      "  2.35332e+00]\n",
      " [7.66610e-01 6.50000e-04 2.35410e-01 ... 6.95880e-01 4.09460e-01\n",
      "  1.73976e+00]]\n",
      "bkg n:6\n",
      "[[0.22783 0.78228 0.15681 ... 0.54757 0.48324 2.83398]\n",
      " [0.78732 0.86644 0.40128 ... 0.30074 0.28894 3.0359 ]\n",
      " [0.61572 0.492   0.07942 ... 0.55566 0.37697 2.0563 ]\n",
      " ...\n",
      " [0.95269 0.99279 0.20274 ... 0.28257 0.22963 2.24883]\n",
      " [0.75501 0.9063  0.31683 ... 0.54156 0.32765 3.02179]\n",
      " [0.59751 0.30027 0.40621 ... 0.58924 0.6919  2.28472]]\n",
      "bkg n:7\n",
      "[[0.93067 0.6453  0.89927 ... 0.65407 0.30376 4.8896 ]\n",
      " [0.58498 0.99014 0.60605 ... 0.44468 0.27281 3.59879]\n",
      " [0.94346 0.23802 0.33388 ... 0.74982 0.3217  2.50265]\n",
      " ...\n",
      " [0.99284 0.50413 0.33595 ... 0.5234  0.34018 2.79328]\n",
      " [0.9708  0.76153 0.5353  ... 0.40769 0.28754 3.6561 ]\n",
      " [0.95909 0.94132 0.69727 ... 0.26887 0.23384 4.0571 ]]\n",
      "bkg n:8\n",
      "[[0.99026 0.56159 0.80018 ... 0.48841 0.38174 2.39476]\n",
      " [0.95891 0.33826 0.62518 ... 0.60297 0.36319 2.50875]\n",
      " [0.99282 0.74376 0.64932 ... 0.37277 0.3107  2.86086]\n",
      " ...\n",
      " [0.02493 0.11076 0.6911  ... 0.49805 0.48345 1.68482]\n",
      " [0.92409 0.88489 0.78912 ... 0.2765  0.1775  1.30923]\n",
      " [0.99513 0.90394 0.67467 ... 0.27806 0.18127 3.77056]]\n",
      "bkg n:9\n",
      "[[0.04079 0.96864 0.4939  ... 0.54735 0.32894 2.75772]\n",
      " [0.57832 0.61981 0.60633 ... 0.41892 0.36916 1.35369]\n",
      " [0.5436  0.86262 0.08916 ... 0.62576 0.27098 1.41596]\n",
      " ...\n",
      " [0.53567 0.33536 0.00972 ... 0.79105 0.44961 1.62003]\n",
      " [0.01244 0.07198 0.5598  ... 0.98059 0.23855 2.09346]\n",
      " [0.95584 0.79608 0.66779 ... 0.39239 0.21982 2.14914]]\n",
      "[0.99754024 0.99611205 0.99891067 ... 0.96662104 0.97221076 0.96877217]\n",
      "0\n",
      "1\n",
      "2\n",
      "3\n",
      "4\n",
      "5\n",
      "6\n",
      "7\n",
      "8\n",
      "9\n",
      "[0.00596458 0.02325978 0.63519776 ... 0.00297537 0.01851744 0.00095911]\n"
     ]
    }
   ],
   "source": [
    "# load the model from disk\n",
    "from sklearn.externals import joblib\n",
    "#st\n",
    "#loaded_model = joblib.load(os.path.expanduser('/home/ovtin/cernbox/HHggbb/HHbbgg_ETH_devel/Training/plots/st_MCbkg/simlple_Test_binary_st.pkl'))\n",
    "#st with add ptMgg\n",
    "#loaded_model = joblib.load(os.path.expanduser('/home/ovtin/cernbox/HHggbb/HHbbgg_ETH_devel/Training/plots/st_ptmgg_MCbkg/simlple_Test_binary_st.pkl'))\n",
    "#st with add ptMgg+ptMjj+dR\n",
    "#loaded_model = joblib.load(os.path.expanduser('/home/ovtin/cernbox/HHggbb/HHbbgg_ETH_devel/Training/plots/st_ptmgg_ptmjj_r_MCbkg/simlple_Test_binary_st.pkl'))\n",
    "#\n",
    "#st\n",
    "#loaded_model = joblib.load(os.path.expanduser('/home/ovtin/cernbox/HHggbb/HHbbgg_ETH_devel/Training/plots/optimization/st_MC_Bkg_lxplus/simlple_Test_binary_st.pkl'))\n",
    "#st with add ptMgg\n",
    "#loaded_model = joblib.load(os.path.expanduser('/home/ovtin/cernbox/HHggbb/HHbbgg_ETH_devel/Training/plots/optimization/st_MC_Bkg_ptmgg_lxplus/simlple_Test_binary_st.pkl'))\n",
    "#st with add ptMgg+ptMjj+dR\n",
    "loaded_model = joblib.load(os.path.expanduser('/home/ovtin/cernbox/HHggbb/HHbbgg_ETH_devel/Training/plots/optimization/st_MC_Bkg_ptmgg_ptmjj_dR_lxplus/simlple_Test_binary_st.pkl'))\n",
    "\n",
    "\n",
    "print len(utils.IO.backgroundName)\n",
    "bkg = []\n",
    "for i in range(0,len(utils.IO.backgroundName)-1): \n",
    "    print \"bkg n:\"+str(i)\n",
    "    print X_bkg[y_bkg ==-i-1]\n",
    "    bkg.append(X_bkg[y_bkg ==-i-1])\n",
    "\n",
    "#compute the MVA\n",
    "Y_pred_sig = loaded_model.predict_proba(X_sig)[:,loaded_model.n_classes_-1].astype(np.float64)\n",
    "print Y_pred_sig \n",
    "Y_pred_bkg = []\n",
    "for i in range(0,len(utils.IO.backgroundName)-1):  \n",
    "    print i\n",
    "    Y_pred_bkg.append(loaded_model.predict_proba(bkg[i])[:,loaded_model.n_classes_-1].astype(np.float64))\n",
    "\n",
    "Y_pred_data = loaded_model.predict_proba(X_data)[:,loaded_model.n_classes_-1].astype(np.float64)\n",
    "print Y_pred_data "
   ]
  },
  {
   "cell_type": "code",
   "execution_count": 5,
   "metadata": {},
   "outputs": [],
   "source": [
    "#Adding additional variables needed\n",
    "import os\n",
    "#st\n",
    "#additionalCut_names = 'noexpand:leadingPhoton_pt/CMS_hgg_mass,noexpand:subleadingPhoton_pt/CMS_hgg_mass,MX'.split(\",\")\n",
    "#st + pt/mgg, OR + ptMjj+dR\n",
    "additionalCut_names = 'MX'.split(\",\")\n",
    "#additionalCut_names = 'noexpand:diphotonCandidate.M(),noexpand:dijetCandidate.M(),MX,isSignal'.split(\",\")\n",
    "#st\n",
    "#outTag = 'output_files/reduceTree_st_variables'\n",
    "#st + pt/mgg \n",
    "#outTag = 'output_files/reduceTree_st_variables_add_ptmgg'\n",
    "#st + pt/mgg+pt/mjj+dR \n",
    "outTag = 'output_files/reduceTree_st_variables_add_ptmgg_ptmjj_dR'\n",
    "outDir=os.path.expanduser(\"/home/ovtin/cernbox/HHggbb/HHbbgg_ETH_devel/Training/\"+outTag)\n",
    "if not os.path.exists(outDir):\n",
    "    os.mkdir(outDir)"
   ]
  },
  {
   "cell_type": "code",
   "execution_count": 6,
   "metadata": {},
   "outputs": [
    {
     "name": "stdout",
     "output_type": "stream",
     "text": [
      "Y_pred\n",
      "(121837,)\n"
     ]
    }
   ],
   "source": [
    "#Save Signal\n",
    "sig_count_df = rpd.read_root(utils.IO.signalName[0],\"bbggSelectionTree\", columns = branch_names+additionalCut_names)\n",
    "preprocessing.define_process_weight(sig_count_df,utils.IO.sigProc[0],utils.IO.signalName[0])\n",
    "\n",
    "#nTot is a multidim vector with all additional variables, dictVar is a dictionary associating a name of the variable\n",
    "#to a position in the vector\n",
    "nTot,dictVar = postprocessing.stackFeatures(sig_count_df,branch_names+additionalCut_names)\n",
    "print \"Y_pred\"\n",
    "print Y_pred_sig.shape\n",
    "\n",
    "processPath=os.path.expanduser('/home/ovtin/cernbox/HHggbb/HHbbgg_ETH_devel/Training/')+outTag+'/'+utils.IO.signalName[0].split(\"/\")[len(utils.IO.signalName[0].split(\"/\"))-1].replace(\"output_\",\"\").replace(\".root\",\"\")+\"_preselection\"+\".root\"\n",
    "postprocessing.saveTree(processPath,dictVar,nTot,Y_pred_sig)\n",
    "\n",
    "processPath=os.path.expanduser('/home/ovtin/cernbox/HHggbb/HHbbgg_ETH_devel/Training/')+outTag+'/'+utils.IO.signalName[0].split(\"/\")[len(utils.IO.signalName[0].split(\"/\"))-1].replace(\"output_\",\"\").replace(\".root\",\"\")+\"_preselection_diffNaming\"+\".root\"\n",
    "postprocessing.saveTree(processPath,dictVar,nTot,Y_pred_sig,nameTree=\"reducedTree_sig\")"
   ]
  },
  {
   "cell_type": "code",
   "execution_count": 7,
   "metadata": {},
   "outputs": [
    {
     "name": "stdout",
     "output_type": "stream",
     "text": [
      "(1262, 23)\n",
      "(75721, 23)\n"
     ]
    }
   ],
   "source": [
    "# do gJets not in the loop since they have two samples for one process\n",
    "bkg_1_count_df = rpd.read_root(utils.IO.backgroundName[1],\"bbggSelectionTree\", columns = branch_names+additionalCut_names)\n",
    "preprocessing.define_process_weight(bkg_1_count_df,utils.IO.bkgProc[1],utils.IO.backgroundName[1])\n",
    "\n",
    "nTot,dictVar = postprocessing.stackFeatures(bkg_1_count_df,branch_names+additionalCut_names)\n",
    "print nTot.shape\n",
    "\n",
    "bkg_2_count_df = rpd.read_root(utils.IO.backgroundName[2],\"bbggSelectionTree\", columns = branch_names+additionalCut_names)\n",
    "preprocessing.define_process_weight(bkg_2_count_df,utils.IO.bkgProc[2],utils.IO.backgroundName[2])\n",
    "\n",
    "nTot_2,dictVar = postprocessing.stackFeatures(bkg_2_count_df,branch_names+additionalCut_names)\n",
    "\n",
    "nTot_3 = np.concatenate((nTot,nTot_2))\n",
    "print nTot_3.shape\n",
    "\n",
    "processPath=(os.path.expanduser('/home/ovtin/cernbox/HHggbb/HHbbgg_ETH_devel/Training/')+outTag+'/'+utils.IO.backgroundName[1].split(\"/\")[len(utils.IO.backgroundName[1].split(\"/\"))-1].replace(\"output_\",\"\").replace(\".root\",\"\")+\"_preselection\"+\".root\").replace(\"_Pt-20to40\",\"\")\n",
    "postprocessing.saveTree(processPath,dictVar,nTot_3,Y_pred_bkg[1])\n",
    "\n",
    "processPath=(os.path.expanduser('/home/ovtin/cernbox/HHggbb/HHbbgg_ETH_devel/Training/')+outTag+'/'+utils.IO.backgroundName[1].split(\"/\")[len(utils.IO.backgroundName[1].split(\"/\"))-1].replace(\"output_\",\"\").replace(\".root\",\"\")+\"_preselection_diffNaming\"+\".root\").replace(\"_Pt-20to40\",\"\")\n",
    "postprocessing.saveTree(processPath,dictVar,nTot_3,Y_pred_bkg[1],nameTree=\"reducedTree_bkg_2\")\n"
   ]
  },
  {
   "cell_type": "code",
   "execution_count": 8,
   "metadata": {},
   "outputs": [
    {
     "name": "stdout",
     "output_type": "stream",
     "text": [
      "Processing sample: 0\n",
      "Processing sample: 3\n",
      "Processing sample: 4\n",
      "Processing sample: 5\n",
      "Processing sample: 6\n",
      "Processing sample: 7\n",
      "Processing sample: 8\n",
      "Processing sample: 9\n",
      "Processing sample: 10\n"
     ]
    }
   ],
   "source": [
    "#Bkgs in the loop - diphotJets and another\n",
    "for iProcess in range(0,len(utils.IO.backgroundName)):\n",
    "    ##gJets which are two samples for one process are skipped  !not skipped\n",
    "    iSample=iProcess\n",
    "    if iProcess == 1 or iProcess ==2:\n",
    "            continue\n",
    "    if iProcess > 2:\n",
    "        iSample = iProcess-1\n",
    "    \n",
    "    print \"Processing sample: \"+str(iProcess)\n",
    "    bkg_count_df = rpd.read_root(utils.IO.backgroundName[iProcess],\"bbggSelectionTree\", columns = branch_names+additionalCut_names)\n",
    "    preprocessing.define_process_weight(bkg_count_df,utils.IO.bkgProc[iProcess],utils.IO.backgroundName[iProcess])\n",
    "\n",
    "    nTot,dictVar = postprocessing.stackFeatures(bkg_count_df,branch_names+additionalCut_names)\n",
    "\n",
    "    processPath=os.path.expanduser('/home/ovtin/cernbox/HHggbb/HHbbgg_ETH_devel/Training/')+outTag+'/'+utils.IO.backgroundName[iProcess].split(\"/\")[len(utils.IO.backgroundName[7].split(\"/\"))-1].replace(\"output_\",\"\").replace(\".root\",\"\")+\"_preselection\"+\".root\"\n",
    "    postprocessing.saveTree(processPath,dictVar,nTot,Y_pred_bkg[iSample])    \n",
    "\n",
    "    processPath=os.path.expanduser('/home/ovtin/cernbox/HHggbb/HHbbgg_ETH_devel/Training/')+outTag+'/'+utils.IO.backgroundName[iProcess].split(\"/\")[len(utils.IO.backgroundName[7].split(\"/\"))-1].replace(\"output_\",\"\").replace(\".root\",\"\")+\"_preselection_diffNaming\"+\".root\"\n",
    "    if \"GluGluToHHTo2B2G_node_SM_13TeV_madgraph_13TeV_DoubleHTag_0\"in processPath:\n",
    "        treeName = \"reducedTree_sig_node_\"+str(iProcess-6)\n",
    "    else:\n",
    "        treeName = \"reducedTree_bkg_\"+str(iProcess)\n",
    "    \n",
    "    postprocessing.saveTree(processPath,dictVar,nTot,Y_pred_bkg[iSample],nameTree=treeName)    \n"
   ]
  },
  {
   "cell_type": "code",
   "execution_count": 9,
   "metadata": {},
   "outputs": [],
   "source": [
    "#save Data\n",
    "data_count_df = rpd.read_root(utils.IO.dataName[0],\"bbggSelectionTree\", columns = branch_names+additionalCut_names)\n",
    "\n",
    "nTot,dictVar = postprocessing.stackFeatures(data_count_df,branch_names+additionalCut_names,isData=1)\n",
    "\n",
    "#save preselection data\n",
    "processPath=os.path.expanduser('/home/ovtin/cernbox/HHggbb/HHbbgg_ETH_devel/Training/')+outTag+'/'+utils.IO.dataName[0].split(\"/\")[len(utils.IO.dataName[0].split(\"/\"))-1].replace(\"output_\",\"\").replace(\".root\",\"\")+\"_preselection\"+\".root\"\n",
    "postprocessing.saveTree(processPath,dictVar,nTot,Y_pred_data)\n",
    "\n",
    "processPath=os.path.expanduser('/home/ovtin/cernbox/HHggbb/HHbbgg_ETH_devel/Training/')+outTag+'/'+utils.IO.dataName[0].split(\"/\")[len(utils.IO.dataName[0].split(\"/\"))-1].replace(\"output_\",\"\").replace(\".root\",\"\")+\"_preselection_diffNaming\"+\".root\"\n",
    "postprocessing.saveTree(processPath,dictVar,nTot,Y_pred_data,nameTree=\"reducedTree_bkg\")"
   ]
  },
  {
   "cell_type": "code",
   "execution_count": 10,
   "metadata": {},
   "outputs": [
    {
     "name": "stdout",
     "output_type": "stream",
     "text": [
      "cd /home/ovtin/cernbox/HHggbb/HHbbgg_ETH_devel/Training/output_files/reduceTree_st_variables_add_ptmgg_ptmjj_dR\n"
     ]
    },
    {
     "data": {
      "text/plain": [
       "0"
      ]
     },
     "execution_count": 10,
     "metadata": {},
     "output_type": "execute_result"
    },
    {
     "name": "stdout",
     "output_type": "stream",
     "text": [
      "hadd Target file: /home/ovtin/cernbox/HHggbb/HHbbgg_ETH_devel/Training/output_files/reduceTree_st_variables_add_ptmgg_ptmjj_dR/Total_preselection_diffNaming.root\n",
      "hadd compression setting for all ouput: 4\n",
      "hadd Source file 1: /home/ovtin/cernbox/HHggbb/HHbbgg_ETH_devel/Training/output_files/reduceTree_st_variables_add_ptmgg_ptmjj_dR/DiPhotonJetsBox_MGG-80toInf_13TeV-Sherpa_st_cuts_preselection_diffNaming.root\n",
      "hadd Source file 2: /home/ovtin/cernbox/HHggbb/HHbbgg_ETH_devel/Training/output_files/reduceTree_st_variables_add_ptmgg_ptmjj_dR/DoubleEG_2017_st_cuts_preselection_diffNaming.root\n",
      "hadd Source file 3: /home/ovtin/cernbox/HHggbb/HHbbgg_ETH_devel/Training/output_files/reduceTree_st_variables_add_ptmgg_ptmjj_dR/GJet_DoubleEMEnriched_MGG-80toInf_TuneCP5_13TeV_Pythia8_st_cuts_preselection_diffNaming.root\n",
      "hadd Source file 4: /home/ovtin/cernbox/HHggbb/HHbbgg_ETH_devel/Training/output_files/reduceTree_st_variables_add_ptmgg_ptmjj_dR/GJet_Pt-20to40_DoubleEMEnriched_MGG-80toInf_TuneCP5_13TeV_Pythia8_st_cuts_preselection_diffNaming.root\n",
      "hadd Source file 5: /home/ovtin/cernbox/HHggbb/HHbbgg_ETH_devel/Training/output_files/reduceTree_st_variables_add_ptmgg_ptmjj_dR/GJet_Pt-40toInf_DoubleEMEnriched_MGG-80toInf_TuneCP5_13TeV_Pythia8_st_cuts_preselection_diffNaming.root\n",
      "hadd Source file 6: /home/ovtin/cernbox/HHggbb/HHbbgg_ETH_devel/Training/output_files/reduceTree_st_variables_add_ptmgg_ptmjj_dR/GluGluHToGG_M-125_13TeV_powheg_pythia8_st_cuts_preselection_diffNaming.root\n",
      "hadd Source file 7: /home/ovtin/cernbox/HHggbb/HHbbgg_ETH_devel/Training/output_files/reduceTree_st_variables_add_ptmgg_ptmjj_dR/GluGluToHHTo2B2G_node_SM_13TeV-madgraph_st_cuts_preselection_diffNaming.root\n",
      "hadd Source file 8: /home/ovtin/cernbox/HHggbb/HHbbgg_ETH_devel/Training/output_files/reduceTree_st_variables_add_ptmgg_ptmjj_dR/VBFHToGG_M-125_13TeV_powheg_pythia8_st_cuts_preselection_diffNaming.root\n",
      "hadd Source file 9: /home/ovtin/cernbox/HHggbb/HHbbgg_ETH_devel/Training/output_files/reduceTree_st_variables_add_ptmgg_ptmjj_dR/VBFHToGG_M125_13TeV_amcatnlo_pythia8_st_cuts_preselection_diffNaming.root\n",
      "hadd Source file 10: /home/ovtin/cernbox/HHggbb/HHbbgg_ETH_devel/Training/output_files/reduceTree_st_variables_add_ptmgg_ptmjj_dR/VHToGG_M125_13TeV_amcatnloFXFX_madspin_pythia8_st_cuts_preselection_diffNaming.root\n",
      "hadd Source file 11: /home/ovtin/cernbox/HHggbb/HHbbgg_ETH_devel/Training/output_files/reduceTree_st_variables_add_ptmgg_ptmjj_dR/bbHToGG_M-125_4FS_yb2_13TeV_amcatnlo_preselection_diffNaming.root\n",
      "hadd Source file 12: /home/ovtin/cernbox/HHggbb/HHbbgg_ETH_devel/Training/output_files/reduceTree_st_variables_add_ptmgg_ptmjj_dR/ttHToGG_M125_13TeV_powheg_pythia8_st_cuts_preselection_diffNaming.root\n",
      "hadd Sources and Target have different compression levels\n",
      "hadd merging will be slower\n",
      "hadd Target path: /home/ovtin/cernbox/HHggbb/HHbbgg_ETH_devel/Training/output_files/reduceTree_st_variables_add_ptmgg_ptmjj_dR/Total_preselection_diffNaming.root:/\n"
     ]
    }
   ],
   "source": [
    "#from subprocess import call\n",
    "#call([\"hadd\",\"daje.root *diffNaming.root\"])\n",
    "print \"cd \"+os.path.expanduser('/home/ovtin/cernbox/HHggbb/HHbbgg_ETH_devel/Training/')+outTag\n",
    "os.system('hadd '+ os.path.expanduser('/home/ovtin/cernbox/HHggbb/HHbbgg_ETH_devel/Training/')+outTag+'/'+'Total_preselection_diffNaming.root '+ os.path.expanduser('/home/ovtin/cernbox/HHggbb/HHbbgg_ETH_devel/Training/')+outTag+'/'+'*diffNaming.root')"
   ]
  },
  {
   "cell_type": "code",
   "execution_count": null,
   "metadata": {},
   "outputs": [],
   "source": []
  }
 ],
 "metadata": {
  "anaconda-cloud": {},
  "kernelspec": {
   "display_name": "Python 2",
   "language": "python",
   "name": "python2"
  },
  "language_info": {
   "codemirror_mode": {
    "name": "ipython",
    "version": 2
   },
   "file_extension": ".py",
   "mimetype": "text/x-python",
   "name": "python",
   "nbconvert_exporter": "python",
   "pygments_lexer": "ipython2",
   "version": "2.7.12"
  }
 },
 "nbformat": 4,
 "nbformat_minor": 1
}
