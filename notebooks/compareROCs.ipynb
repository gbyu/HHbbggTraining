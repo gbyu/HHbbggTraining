{
 "cells": [
  {
   "cell_type": "code",
   "execution_count": 1,
   "metadata": {},
   "outputs": [
    {
     "name": "stdout",
     "output_type": "stream",
     "text": [
      "Welcome to JupyROOT 6.13/02\n",
      "XGBClassifier(base_score=0.5, booster='gbtree', colsample_bylevel=1,\n",
      "       colsample_bytree=1, gamma=0, learning_rate=0.1, max_delta_step=0,\n",
      "       max_depth=5, min_child_weight=1e-05, missing=nan, n_estimators=2000,\n",
      "       n_jobs=1, nthread=20, objective='binary:logistic', random_state=0,\n",
      "       reg_alpha=0, reg_lambda=0.1, scale_pos_weight=1, seed=0,\n",
      "       silent=True, subsample=1)\n"
     ]
    }
   ],
   "source": [
    "import os\n",
    "import sys; sys.path.append(\"/home/ovtin/cernbox/HHggbb/HHbbgg_ETH_devel/Training/python\") # to load packages\n",
    "import training_utils as utils\n",
    "import numpy as np\n",
    "reload(utils)\n",
    "import preprocessing_utils as preprocessing\n",
    "reload(preprocessing)\n",
    "import plotting_utils as plotting\n",
    "reload(plotting)\n",
    "import optimization_utils as optimization\n",
    "reload(optimization)\n",
    "import postprocessing_utils as postprocessing\n",
    "reload(postprocessing)\n",
    "\n",
    "from sklearn.externals import joblib\n",
    "loaded_model_A = joblib.load(os.path.expanduser('/home/ovtin/cernbox/HHggbb/HHbbgg_ETH_devel/Training/output_files/simlple_binary_st.pkl'))\n",
    "loaded_model_B = joblib.load(os.path.expanduser('/home/ovtin/cernbox/HHggbb/HHbbgg_ETH_devel/Training/output_files/simlple_binary_st.pkl'))\n",
    "#loaded_model_B = joblib.load(os.path.expanduser('/home/ovtin/cernbox/HHggbb/HHbbgg_ETH_devel/Training/output_files/simlple_binary_st_ptmgg_pt_mjj_drother.pkl'))\n",
    "#loaded_model_D = joblib.load(os.path.expanduser('/home/ovtin/cernbox/HHggbb/HHbbgg_ETH_devel/Training/output_files/simlple_Test_binary.pkl'))\n",
    "#loaded_model_E = joblib.load(os.path.expanduser('/home/ovtin/cernbox/HHggbb/HHbbgg_ETH_devel/Training/output_files/simlple_Test_binary.pkl'))\n",
    "\n",
    "print loaded_model_A"
   ]
  },
  {
   "cell_type": "code",
   "execution_count": 2,
   "metadata": {},
   "outputs": [
    {
     "name": "stdout",
     "output_type": "stream",
     "text": [
      "env: data=/home/ovtin/cernbox/HHggbb/HHbbgg_ETH_devel/Training/2016\n",
      "env: data=/home/ovtin/cernbox/HHggbb/HHbbgg_ETH_devel/Training/2017\n",
      "using background file n.0: /home/ovtin/cernbox/HHggbb/HHbbgg_ETH_devel/Training/2016/DoubleEG_2016.root\n",
      "using background file n.1: /home/ovtin/cernbox/HHggbb/HHbbgg_ETH_devel/Training/2017/DoubleEG_2017.root\n",
      "using signal file n.0: /home/ovtin/cernbox/HHggbb/HHbbgg_ETH_devel/Training/2016/output_GluGluToHHTo2B2G_node_SM_13TeV-madgraph_2016.root\n",
      "using signal file n.1: /home/ovtin/cernbox/HHggbb/HHbbgg_ETH_devel/Training/2017/output_GluGluToHHTo2B2G_node_SM_13TeV-madgraph_2017.root\n"
     ]
    }
   ],
   "source": [
    "ntuples = '2016'\n",
    "# \"%\" sign allows to interpret the rest as a system command\n",
    "%env data=$utils.IO.ldata$ntuples\n",
    "files = ! ls $data | sort -t_ -k 3 -n\n",
    "#signal = [s for s in files if \"output_GluGluToHHTo2B2G_node_SM_13TeV-madgraph_2016_ptmjj.root\" in s]\n",
    "#bkgr = [s for s in files if \"DoubleEG_2016_ptmjj.root\" in s]\n",
    "signal = [s for s in files if \"output_GluGluToHHTo2B2G_node_SM_13TeV-madgraph_2016.root\" in s]\n",
    "bkgr = [s for s in files if \"DoubleEG_2016.root\" in s]\n",
    "\n",
    "utils.IO.add_signal(ntuples,signal,1)\n",
    "utils.IO.add_background(ntuples,bkgr,-1)\n",
    "\n",
    "ntuples = '2017'\n",
    "# \"%\" sign allows to interpret the rest as a system command\n",
    "%env data=$utils.IO.ldata$ntuples\n",
    "files = ! ls $data | sort -t_ -k 3 -n\n",
    "#signal = [s for s in files if \"output_GluGluToHHTo2B2G_node_SM_13TeV-madgraph_2017_ptmjj.root\" in s]\n",
    "#bkgr = [s for s in files if \"DoubleEG_2017_ptmjj.root\" in s]\n",
    "signal = [s for s in files if \"output_GluGluToHHTo2B2G_node_SM_13TeV-madgraph_2017.root\" in s]\n",
    "bkgr = [s for s in files if \"DoubleEG_2017.root\" in s]\n",
    "utils.IO.add_signal(ntuples,signal,-1)\n",
    "utils.IO.add_background(ntuples,bkgr,-1)\n",
    "\n",
    "\n",
    "for i in range(len(utils.IO.backgroundName)):        \n",
    "    print \"using background file n.\"+str(i)+\": \"+utils.IO.backgroundName[i]\n",
    "for i in range(len(utils.IO.signalName)):    \n",
    "    print \"using signal file n.\"+str(i)+\": \"+utils.IO.signalName[i]"
   ]
  },
  {
   "cell_type": "code",
   "execution_count": 3,
   "metadata": {},
   "outputs": [
    {
     "name": "stdout",
     "output_type": "stream",
     "text": [
      "['absCosThetaStar_CS', 'absCosTheta_bb', 'absCosTheta_gg', 'PhoJetMinDr', 'leadingJet_DeepCSV', 'subleadingJet_DeepCSV', 'leadingPhotonSigOverE', 'subleadingPhotonSigOverE', 'sigmaMOverM', 'diphotonCandidatePtOverdiHiggsM', 'dijetCandidatePtOverdiHiggsM', 'noexpand:leadingJet_bRegNNResolution/leadingJet_pt', 'noexpand:subleadingJet_bRegNNResolution/subleadingJet_pt', 'noexpand:sigmaMJets/Mjj', 'rho']\n",
      "['Data_13TeV_DoubleHTag_0']\n",
      "['Data_13TeV_DoubleHTag_0']\n",
      "using tree:GluGluToHHTo2B2G_node_SM_13TeV_madgraph_13TeV_DoubleHTag_0\n",
      "(508299, 15)\n",
      "(508299, 1)\n",
      "(508299, 15)\n",
      "(508299, 1)\n"
     ]
    }
   ],
   "source": [
    "#use noexpand for root expressions, it needs this file https://github.com/ibab/root_pandas/blob/master/root_pandas/readwrite.py\n",
    "#standart of input values \n",
    "branch_names = 'absCosThetaStar_CS,absCosTheta_bb,absCosTheta_gg,PhoJetMinDr,leadingJet_DeepCSV,subleadingJet_DeepCSV,leadingPhotonSigOverE,subleadingPhotonSigOverE,sigmaMOverM,diphotonCandidatePtOverdiHiggsM,dijetCandidatePtOverdiHiggsM,noexpand:leadingJet_bRegNNResolution/leadingJet_pt,noexpand:subleadingJet_bRegNNResolution/subleadingJet_pt,noexpand:sigmaMJets/Mjj,rho'.split(\",\")\n",
    "branch_names = [c.strip() for c in branch_names]\n",
    "print branch_names\n",
    "\n",
    "import pandas as pd\n",
    "import root_pandas as rpd\n",
    "from root_numpy import root2array, list_trees\n",
    "\n",
    "#print list_trees('/home/ovtin/cernbox/HHggbb/HHbbgg_ETH_devel/Training/2016/output_GluGluToHHTo2B2G_node_SM_13TeV-madgraph.root')\n",
    "for i in range(len(utils.IO.backgroundName)):        \n",
    "    print list_trees(utils.IO.backgroundName[i])\n",
    "        \n",
    "preprocessing.set_signals(\"GluGluToHHTo2B2G_node_SM_13TeV_madgraph_13TeV_DoubleHTag_0\",branch_names,True)\n",
    "preprocessing.set_backgrounds(\"Data_13TeV_DoubleHTag_0\",branch_names,True) \n",
    "X_bkg,y_bkg,weights_bkg,X_sig,y_sig,weights_sig=preprocessing.set_variables(branch_names)\n",
    "\n",
    "#relative weighting between components of one class is kept, all classes normalized to the same\n",
    "#weights_sig=preprocessing.weight_signal_with_resolution(weights_sig,y_sig)\n",
    "weights_bkg,weights_sig=preprocessing.normalize_process_weights(weights_bkg,y_bkg,weights_sig,y_sig)\n",
    "\n",
    "X_bkg,y_bkg,weights_bkg = preprocessing.randomize(X_bkg,y_bkg,weights_bkg)\n",
    "X_sig,y_sig,weights_sig = preprocessing.randomize(X_sig,y_sig,weights_sig)\n",
    "\n",
    "print X_bkg.shape\n",
    "print y_bkg.shape\n",
    "#bbggTrees have by default signal and CR events, let's be sure that we clean it\n",
    "X_bkg,y_bkg,weights_bkg,X_sig,y_sig,weights_sig=preprocessing.clean_signal_events(X_bkg,y_bkg,weights_bkg,X_sig,y_sig,weights_sig)\n",
    "print X_bkg.shape\n",
    "print y_bkg.shape\n",
    "\n",
    "y_total_train = preprocessing.get_total_training_sample(y_sig,y_bkg).ravel()\n",
    "X_total_train = preprocessing.get_total_training_sample(X_sig,X_bkg)\n",
    "\n",
    "y_total_test = preprocessing.get_total_test_sample(y_sig,y_bkg).ravel()\n",
    "X_total_test = preprocessing.get_total_test_sample(X_sig,X_bkg)\n",
    "\n",
    "w_total_train = preprocessing.get_total_training_sample(weights_sig,weights_bkg).ravel()\n",
    "w_total_test = preprocessing.get_total_test_sample(weights_sig,weights_bkg).ravel()"
   ]
  },
  {
   "cell_type": "code",
   "execution_count": 4,
   "metadata": {},
   "outputs": [
    {
     "data": {
      "image/png": "[encoded data removed]",
      "text/plain": [
       "<Figure size 432x288 with 1 Axes>"
      ]
     },
     "metadata": {
      "needs_background": "light"
     },
     "output_type": "display_data"
    }
   ],
   "source": [
    "fpr_gJ_A,tpr_gJ_A = plotting.plot_roc_curve(X_total_test,y_total_test,loaded_model_A,outString=\"xgbrA\")"
   ]
  },
  {
   "cell_type": "code",
   "execution_count": 5,
   "metadata": {},
   "outputs": [],
   "source": [
    "#fpr_gJ_B,tpr_gJ_B = plotting.plot_roc_curve(X_total_test,y_total_test,loaded_model_B,outString=\"xgbrB\")"
   ]
  },
  {
   "cell_type": "code",
   "execution_count": 6,
   "metadata": {},
   "outputs": [],
   "source": [
    "#fpr_gJ_D,tpr_gJ_D = plotting.plot_roc_curve(X_total_test,y_total_test,loaded_model_D,outString=\"xgbrD\")"
   ]
  },
  {
   "cell_type": "code",
   "execution_count": 7,
   "metadata": {},
   "outputs": [],
   "source": [
    "#fpr_gJ_E,tpr_gJ_E = plotting.plot_roc_curve(X_total_test,y_total_test,loaded_model_E,outString=\"xgbrE\")"
   ]
  },
  {
   "cell_type": "code",
   "execution_count": 16,
   "metadata": {},
   "outputs": [
    {
     "name": "stdout",
     "output_type": "stream",
     "text": [
      "env: data=/home/ovtin/cernbox/HHggbb/HHbbgg_ETH_devel/Training/2016\n",
      "env: data=/home/ovtin/cernbox/HHggbb/HHbbgg_ETH_devel/Training/2017\n",
      "using background file n.0: /home/ovtin/cernbox/HHggbb/HHbbgg_ETH_devel/Training/2016/DoubleEG_2016_ptmjj.root\n",
      "using background file n.1: /home/ovtin/cernbox/HHggbb/HHbbgg_ETH_devel/Training/2017/DoubleEG_2017_ptmjj.root\n",
      "using signal file n.0: /home/ovtin/cernbox/HHggbb/HHbbgg_ETH_devel/Training/2016/output_GluGluToHHTo2B2G_node_SM_13TeV-madgraph_2016_ptmjj.root\n",
      "using signal file n.1: /home/ovtin/cernbox/HHggbb/HHbbgg_ETH_devel/Training/2017/output_GluGluToHHTo2B2G_node_SM_13TeV-madgraph_2017_ptmjj.root\n"
     ]
    }
   ],
   "source": [
    "utils.IO.backgroundName =[]\n",
    "utils.IO.signalName = []\n",
    "ntuples = '2016'\n",
    "# \"%\" sign allows to interpret the rest as a system command\n",
    "%env data=$utils.IO.ldata$ntuples\n",
    "files = ! ls $data | sort -t_ -k 3 -n\n",
    "signal = [s for s in files if \"output_GluGluToHHTo2B2G_node_SM_13TeV-madgraph_2016_ptmjj.root\" in s]\n",
    "bkgr = [s for s in files if \"DoubleEG_2016_ptmjj.root\" in s]\n",
    "\n",
    "utils.IO.add_signal(ntuples,signal,2)\n",
    "utils.IO.add_background(ntuples,bkgr,-2)\n",
    "\n",
    "ntuples = '2017'\n",
    "# \"%\" sign allows to interpret the rest as a system command\n",
    "%env data=$utils.IO.ldata$ntuples\n",
    "files = ! ls $data | sort -t_ -k 3 -n\n",
    "signal = [s for s in files if \"output_GluGluToHHTo2B2G_node_SM_13TeV-madgraph_2017_ptmjj.root\" in s]\n",
    "bkgr = [s for s in files if \"DoubleEG_2017_ptmjj.root\" in s]\n",
    "utils.IO.add_signal(ntuples,signal,-2)\n",
    "utils.IO.add_background(ntuples,bkgr,-2)\n",
    "\n",
    "\n",
    "for i in range(len(utils.IO.backgroundName)):        \n",
    "    print \"using background file n.\"+str(i)+\": \"+utils.IO.backgroundName[i]\n",
    "for i in range(len(utils.IO.signalName)):    \n",
    "    print \"using signal file n.\"+str(i)+\": \"+utils.IO.signalName[i]"
   ]
  },
  {
   "cell_type": "code",
   "execution_count": 20,
   "metadata": {},
   "outputs": [
    {
     "name": "stdout",
     "output_type": "stream",
     "text": [
      "['absCosThetaStar_CS', 'absCosTheta_bb', 'absCosTheta_gg', 'PhoJetMinDr', 'leadingJet_DeepCSV', 'subleadingJet_DeepCSV', 'leadingPhotonSigOverE', 'subleadingPhotonSigOverE', 'sigmaMOverM', 'diphotonCandidatePtOverdiHiggsM', 'dijetCandidatePtOverdiHiggsM', 'noexpand:leadingJet_bRegNNResolution/leadingJet_pt', 'noexpand:subleadingJet_bRegNNResolution/subleadingJet_pt', 'noexpand:sigmaMJets/Mjj', 'rho', 'noexpand:leadingPhoton_pt/CMS_hgg_mass', 'noexpand:subleadingPhoton_pt/CMS_hgg_mass', 'noexpand:leadingJet_pt/Mjj', 'noexpand:subleadingJet_pt/Mjj', 'PhoJetotherDr']\n",
      "['Data_13TeV_DoubleHTag_0']\n",
      "['Data_13TeV_DoubleHTag_0']\n"
     ]
    },
    {
     "ename": "IndexError",
     "evalue": "list index out of range",
     "output_type": "error",
     "traceback": [
      "\u001b[0;31m\u001b[0m",
      "\u001b[0;31mIndexError\u001b[0mTraceback (most recent call last)",
      "\u001b[0;32m<ipython-input-20-a9f4fc2df26d>\u001b[0m in \u001b[0;36m<module>\u001b[0;34m()\u001b[0m\n\u001b[1;32m     11\u001b[0m     \u001b[0;32mprint\u001b[0m \u001b[0mlist_trees\u001b[0m\u001b[0;34m(\u001b[0m\u001b[0mutils\u001b[0m\u001b[0;34m.\u001b[0m\u001b[0mIO\u001b[0m\u001b[0;34m.\u001b[0m\u001b[0mbackgroundName\u001b[0m\u001b[0;34m[\u001b[0m\u001b[0mi\u001b[0m\u001b[0;34m]\u001b[0m\u001b[0;34m)\u001b[0m\u001b[0;34m\u001b[0m\u001b[0m\n\u001b[1;32m     12\u001b[0m \u001b[0;34m\u001b[0m\u001b[0m\n\u001b[0;32m---> 13\u001b[0;31m \u001b[0mpreprocessing\u001b[0m\u001b[0;34m.\u001b[0m\u001b[0mset_backgrounds\u001b[0m\u001b[0;34m(\u001b[0m\u001b[0;34m\"Data_13TeV_DoubleHTag_0\"\u001b[0m\u001b[0;34m,\u001b[0m\u001b[0mbranch_names\u001b[0m\u001b[0;34m,\u001b[0m\u001b[0mTrue\u001b[0m\u001b[0;34m)\u001b[0m\u001b[0;34m\u001b[0m\u001b[0m\n\u001b[0m\u001b[1;32m     14\u001b[0m \u001b[0mpreprocessing\u001b[0m\u001b[0;34m.\u001b[0m\u001b[0mset_signals\u001b[0m\u001b[0;34m(\u001b[0m\u001b[0;34m\"GluGluToHHTo2B2G_node_SM_13TeV_madgraph_13TeV_DoubleHTag_0\"\u001b[0m\u001b[0;34m,\u001b[0m\u001b[0mbranch_names\u001b[0m\u001b[0;34m,\u001b[0m\u001b[0mTrue\u001b[0m\u001b[0;34m)\u001b[0m\u001b[0;34m\u001b[0m\u001b[0m\n\u001b[1;32m     15\u001b[0m \u001b[0mX_bkg\u001b[0m\u001b[0;34m,\u001b[0m\u001b[0my_bkg\u001b[0m\u001b[0;34m,\u001b[0m\u001b[0mweights_bkg\u001b[0m\u001b[0;34m,\u001b[0m\u001b[0mX_sig\u001b[0m\u001b[0;34m,\u001b[0m\u001b[0my_sig\u001b[0m\u001b[0;34m,\u001b[0m\u001b[0mweights_sig\u001b[0m\u001b[0;34m=\u001b[0m\u001b[0mpreprocessing\u001b[0m\u001b[0;34m.\u001b[0m\u001b[0mset_variables\u001b[0m\u001b[0;34m(\u001b[0m\u001b[0mbranch_names\u001b[0m\u001b[0;34m)\u001b[0m\u001b[0;34m\u001b[0m\u001b[0m\n",
      "\u001b[0;32m/home/ovtin/cernbox/HHggbb/HHbbgg_ETH_devel/Training/python/preprocessing_utils.pyc\u001b[0m in \u001b[0;36mset_backgrounds\u001b[0;34m(treeName, branch_names, shuffle)\u001b[0m\n\u001b[1;32m    181\u001b[0m \u001b[0;32mdef\u001b[0m \u001b[0mset_backgrounds\u001b[0m\u001b[0;34m(\u001b[0m\u001b[0mtreeName\u001b[0m\u001b[0;34m,\u001b[0m\u001b[0mbranch_names\u001b[0m\u001b[0;34m,\u001b[0m\u001b[0mshuffle\u001b[0m\u001b[0;34m)\u001b[0m\u001b[0;34m:\u001b[0m\u001b[0;34m\u001b[0m\u001b[0m\n\u001b[1;32m    182\u001b[0m     \u001b[0;32mfor\u001b[0m \u001b[0mi\u001b[0m \u001b[0;32min\u001b[0m \u001b[0mrange\u001b[0m\u001b[0;34m(\u001b[0m\u001b[0mutils\u001b[0m\u001b[0;34m.\u001b[0m\u001b[0mIO\u001b[0m\u001b[0;34m.\u001b[0m\u001b[0mnBkg\u001b[0m\u001b[0;34m)\u001b[0m\u001b[0;34m:\u001b[0m\u001b[0;34m\u001b[0m\u001b[0m\n\u001b[0;32m--> 183\u001b[0;31m         \u001b[0mutils\u001b[0m\u001b[0;34m.\u001b[0m\u001b[0mIO\u001b[0m\u001b[0;34m.\u001b[0m\u001b[0mbackground_df\u001b[0m\u001b[0;34m.\u001b[0m\u001b[0mappend\u001b[0m\u001b[0;34m(\u001b[0m\u001b[0mrpd\u001b[0m\u001b[0;34m.\u001b[0m\u001b[0mread_root\u001b[0m\u001b[0;34m(\u001b[0m\u001b[0mutils\u001b[0m\u001b[0;34m.\u001b[0m\u001b[0mIO\u001b[0m\u001b[0;34m.\u001b[0m\u001b[0mbackgroundName\u001b[0m\u001b[0;34m[\u001b[0m\u001b[0mi\u001b[0m\u001b[0;34m]\u001b[0m\u001b[0;34m,\u001b[0m \u001b[0mtreeName\u001b[0m\u001b[0;34m,\u001b[0m \u001b[0mcolumns\u001b[0m \u001b[0;34m=\u001b[0m \u001b[0mbranch_names\u001b[0m\u001b[0;34m)\u001b[0m\u001b[0;34m)\u001b[0m\u001b[0;34m\u001b[0m\u001b[0m\n\u001b[0m\u001b[1;32m    184\u001b[0m         \u001b[0mdefine_process_weight\u001b[0m\u001b[0;34m(\u001b[0m\u001b[0mutils\u001b[0m\u001b[0;34m.\u001b[0m\u001b[0mIO\u001b[0m\u001b[0;34m.\u001b[0m\u001b[0mbackground_df\u001b[0m\u001b[0;34m[\u001b[0m\u001b[0mi\u001b[0m\u001b[0;34m]\u001b[0m\u001b[0;34m,\u001b[0m\u001b[0mutils\u001b[0m\u001b[0;34m.\u001b[0m\u001b[0mIO\u001b[0m\u001b[0;34m.\u001b[0m\u001b[0mbkgProc\u001b[0m\u001b[0;34m[\u001b[0m\u001b[0mi\u001b[0m\u001b[0;34m]\u001b[0m\u001b[0;34m,\u001b[0m\u001b[0mutils\u001b[0m\u001b[0;34m.\u001b[0m\u001b[0mIO\u001b[0m\u001b[0;34m.\u001b[0m\u001b[0mbackgroundName\u001b[0m\u001b[0;34m[\u001b[0m\u001b[0mi\u001b[0m\u001b[0;34m]\u001b[0m\u001b[0;34m)\u001b[0m\u001b[0;34m\u001b[0m\u001b[0m\n\u001b[1;32m    185\u001b[0m         \u001b[0;32mif\u001b[0m \u001b[0mshuffle\u001b[0m\u001b[0;34m:\u001b[0m\u001b[0;34m\u001b[0m\u001b[0m\n",
      "\u001b[0;31mIndexError\u001b[0m: list index out of range"
     ]
    }
   ],
   "source": [
    "#use noexpand for root expressions, it needs this file https://github.com/ibab/root_pandas/blob/master/root_pandas/readwrite.py\n",
    "branch_names = 'absCosThetaStar_CS,absCosTheta_bb,absCosTheta_gg,PhoJetMinDr,leadingJet_DeepCSV,subleadingJet_DeepCSV,leadingPhotonSigOverE,subleadingPhotonSigOverE,sigmaMOverM,diphotonCandidatePtOverdiHiggsM,dijetCandidatePtOverdiHiggsM,noexpand:leadingJet_bRegNNResolution/leadingJet_pt,noexpand:subleadingJet_bRegNNResolution/subleadingJet_pt,noexpand:sigmaMJets/Mjj,rho,noexpand:leadingPhoton_pt/CMS_hgg_mass,noexpand:subleadingPhoton_pt/CMS_hgg_mass,noexpand:leadingJet_pt/Mjj,noexpand:subleadingJet_pt/Mjj,PhoJetotherDr'.split(\",\")\n",
    "branch_names = [c.strip() for c in branch_names]\n",
    "print branch_names\n",
    "\n",
    "import pandas as pd\n",
    "import root_pandas as rpd\n",
    "from root_numpy import root2array, list_trees\n",
    "\n",
    "for i in range(len(utils.IO.backgroundName)):        \n",
    "    print list_trees(utils.IO.backgroundName[i])\n",
    "        \n",
    "preprocessing.set_signals(\"GluGluToHHTo2B2G_node_SM_13TeV_madgraph_13TeV_DoubleHTag_0\",branch_names,True)\n",
    "preprocessing.set_backgrounds(\"Data_13TeV_DoubleHTag_0\",branch_names,True) \n",
    "X_bkg,y_bkg,weights_bkg,X_sig,y_sig,weights_sig=preprocessing.set_variables(branch_names)\n",
    "\n",
    "#relative weighting between components of one class is kept, all classes normalized to the same\n",
    "#weights_sig=preprocessing.weight_signal_with_resolution(weights_sig,y_sig)\n",
    "weights_bkg,weights_sig=preprocessing.normalize_process_weights(weights_bkg,y_bkg,weights_sig,y_sig)\n",
    "\n",
    "X_bkg,y_bkg,weights_bkg = preprocessing.randomize(X_bkg,y_bkg,weights_bkg)\n",
    "X_sig,y_sig,weights_sig = preprocessing.randomize(X_sig,y_sig,weights_sig)\n",
    "\n",
    "print X_bkg.shape\n",
    "print y_bkg.shape\n",
    "#bbggTrees have by default signal and CR events, let's be sure that we clean it\n",
    "X_bkg,y_bkg,weights_bkg,X_sig,y_sig,weights_sig=preprocessing.clean_signal_events(X_bkg,y_bkg,weights_bkg,X_sig,y_sig,weights_sig)\n",
    "print X_bkg.shape\n",
    "print y_bkg.shape\n",
    "\n",
    "y_total_train = preprocessing.get_total_training_sample(y_sig,y_bkg).ravel()\n",
    "X_total_train = preprocessing.get_total_training_sample(X_sig,X_bkg)\n",
    "\n",
    "y_total_test = preprocessing.get_total_test_sample(y_sig,y_bkg).ravel()\n",
    "X_total_test = preprocessing.get_total_test_sample(X_sig,X_bkg)\n",
    "\n",
    "w_total_train = preprocessing.get_total_training_sample(weights_sig,weights_bkg).ravel()\n",
    "w_total_test = preprocessing.get_total_test_sample(weights_sig,weights_bkg).ravel()"
   ]
  },
  {
   "cell_type": "code",
   "execution_count": 11,
   "metadata": {},
   "outputs": [
    {
     "data": {
      "image/png": "[encoded data removed]",
      "text/plain": [
       "<Figure size 432x288 with 1 Axes>"
      ]
     },
     "metadata": {
      "needs_background": "light"
     },
     "output_type": "display_data"
    }
   ],
   "source": [
    "fpr_gJ_B,tpr_gJ_B = plotting.plot_roc_curve(X_total_test,y_total_test,loaded_model_B,outString=\"xgbrB\")"
   ]
  },
  {
   "cell_type": "code",
   "execution_count": 12,
   "metadata": {},
   "outputs": [
    {
     "data": {
      "image/png": "[encoded data removed]",
      "text/plain": [
       "<Figure size 432x288 with 1 Axes>"
      ]
     },
     "metadata": {
      "needs_background": "light"
     },
     "output_type": "display_data"
    }
   ],
   "source": [
    "import matplotlib.pyplot as plt\n",
    "plt.show()\n",
    "\n",
    "plt.plot(fpr_gJ_A, tpr_gJ_A, lw=1, label='A')\n",
    "plt.plot(fpr_gJ_B, tpr_gJ_B, lw=1, label='B')\n",
    "#plt.plot(fpr_gJ_D, tpr_gJ_D, lw=1, label='C')\n",
    "#plt.plot(fpr_gJ_E, tpr_gJ_E, lw=1, label='D')\n",
    "\n",
    "\n",
    "plt.xlim([-0.05, 0.55])\n",
    "plt.ylim([0.55, 1.05])\n",
    "plt.xlabel('False Positive Rate')\n",
    "plt.ylabel('True Positive Rate')\n",
    "plt.title('ROC Curve')\n",
    "plt.legend(loc=\"lower right\")\n",
    "plt.grid()\n",
    "\n",
    "#plt.show()\n",
    "\n",
    "outString = \"comparison_resWeight_optimization_gJ_zoom\"\n",
    "plt.savefig(utils.IO.plotFolder+\"rocCurve\"+\"_\"+str(outString)+\".png\")\n",
    "plt.savefig(utils.IO.plotFolder+\"rocCurve\"+\"_\"+str(outString)+\".pdf\")"
   ]
  },
  {
   "cell_type": "code",
   "execution_count": null,
   "metadata": {},
   "outputs": [],
   "source": []
  }
 ],
 "metadata": {
  "kernelspec": {
   "display_name": "Python 2",
   "language": "python",
   "name": "python2"
  },
  "language_info": {
   "codemirror_mode": {
    "name": "ipython",
    "version": 2
   },
   "file_extension": ".py",
   "mimetype": "text/x-python",
   "name": "python",
   "nbconvert_exporter": "python",
   "pygments_lexer": "ipython2",
   "version": "2.7.12"
  }
 },
 "nbformat": 4,
 "nbformat_minor": 2
}
