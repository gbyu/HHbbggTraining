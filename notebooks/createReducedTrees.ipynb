{
 "cells": [
  {
   "cell_type": "code",
   "execution_count": 1,
   "metadata": {},
   "outputs": [
    {
     "name": "stdout",
     "output_type": "stream",
     "text": [
      "Welcome to JupyROOT 6.13/02\n"
     ]
    },
    {
     "data": {
      "text/plain": [
       "<module 'postprocessing_utils' from '/home/ovtin/cernbox/HHggbb/HHbbgg_ETH_devel/Training/python/postprocessing_utils.pyc'>"
      ]
     },
     "execution_count": 1,
     "metadata": {},
     "output_type": "execute_result"
    }
   ],
   "source": [
    "import os\n",
    "import sys; sys.path.append(\"/home/ovtin/cernbox/HHggbb/HHbbgg_ETH_devel/Training/python\") # to load packages\n",
    "import training_utils as utils\n",
    "import numpy as np\n",
    "reload(utils)\n",
    "import preprocessing_utils as preprocessing\n",
    "reload(preprocessing)\n",
    "import plotting_utils as plotting\n",
    "reload(plotting)\n",
    "import optimization_utils as optimization\n",
    "reload(optimization)\n",
    "import postprocessing_utils as postprocessing\n",
    "reload(postprocessing)\n"
   ]
  },
  {
   "cell_type": "code",
   "execution_count": 2,
   "metadata": {},
   "outputs": [
    {
     "name": "stdout",
     "output_type": "stream",
     "text": [
      "env: data=/home/ovtin/cernbox/HHggbb/HHbbgg_ETH_devel/Training/2017\n",
      "['output_DiPhotonJetsBox_MGG-80toInf_13TeV-Sherpa_st_cuts.root']\n",
      "using background file n.0: /home/ovtin/cernbox/HHggbb/HHbbgg_ETH_devel/Training/2017/output_DiPhotonJetsBox_MGG-80toInf_13TeV-Sherpa_st_cuts.root\n",
      "using background file n.1: /home/ovtin/cernbox/HHggbb/HHbbgg_ETH_devel/Training/2017/output_GJet_Pt-20to40_DoubleEMEnriched_MGG-80toInf_TuneCP5_13TeV_Pythia8_st_cuts.root\n",
      "using background file n.2: /home/ovtin/cernbox/HHggbb/HHbbgg_ETH_devel/Training/2017/output_GJet_Pt-40toInf_DoubleEMEnriched_MGG-80toInf_TuneCP5_13TeV_Pythia8_st_cuts.root\n",
      "using signal file n.0: /home/ovtin/cernbox/HHggbb/HHbbgg_ETH_devel/Training/2017/output_GluGluToHHTo2B2G_node_SM_13TeV-madgraph_st_cuts.root\n",
      "using data file: /home/ovtin/cernbox/HHggbb/HHbbgg_ETH_devel/Training/2017/DoubleEG_2017_st_cuts.root\n"
     ]
    }
   ],
   "source": [
    "reload(utils)\n",
    "reload(preprocessing)\n",
    "reload(plotting)\n",
    "reload(optimization)\n",
    "reload(postprocessing)\n",
    "#ntuples = '2016'\n",
    "ntuples = '2017'\n",
    "# \"%\" sign allows to interpret the rest as a system command\n",
    "%env data=$utils.IO.ldata$ntuples\n",
    "files = ! ls $data | sort -t_ -k 3 -n\n",
    "#pick only SM\n",
    "#signal = [s for s in files if \"output_GluGluToHHTo2B2G_node_SM_13TeV-madgraph_2016.root\" in s]\n",
    "#diphotonJets = [s for s in files if \"DoubleEG_2016.root\" in s]\n",
    "#signal = [s for s in files if \"output_GluGluToHHTo2B2G_node_SM_13TeV-madgraph_2017.root\" in s]\n",
    "#\n",
    "signal = [s for s in files if \"output_GluGluToHHTo2B2G_node_SM_13TeV-madgraph_st_cuts.root\" in s]\n",
    "diphotonJets = [s for s in files if \"output_DiPhotonJetsBox_MGG-80toInf_13TeV-Sherpa_st_cuts.root\" in s]\n",
    "gJets_lowPt = [s for s in files if \"output_GJet_Pt-20to40_DoubleEMEnriched_MGG-80toInf_TuneCP5_13TeV_Pythia8_st_cuts.root\" in s]\n",
    "gJets_highPt = [s for s in files if \"output_GJet_Pt-40toInf_DoubleEMEnriched_MGG-80toInf_TuneCP5_13TeV_Pythia8_st_cuts.root\" in s]\n",
    "#\n",
    "#signal = [s for s in files if \"output_GluGluToHHTo2B2G_node_SM_13TeV-madgraph_st_cuts_ptMjj.root\" in s]\n",
    "#diphotonJets = [s for s in files if \"output_DiPhotonJetsBox_MGG-80toInf_13TeV-Sherpa_st_cuts_ptMjj.root\" in s]\n",
    "#gJets_lowPt = [s for s in files if \"output_GJet_Pt-20to40_DoubleEMEnriched_MGG-80toInf_TuneCP5_13TeV_Pythia8_st_cuts_ptMjj.root\" in s]\n",
    "#gJets_highPt = [s for s in files if \"output_GJet_Pt-40toInf_DoubleEMEnriched_MGG-80toInf_TuneCP5_13TeV_Pythia8_st_cuts_ptMjj.root\" in s]\n",
    "#\n",
    "#diphotonJets = [s for s in files if \"DoubleEG_2017.root\" in s]\n",
    "#signal = [s for s in files if \"output_GluGluToHHTo2B2G_node_SM_13TeV-madgraph.root\" in s]\n",
    "#diphotonJets = [s for s in files if \"DoubleEG.root\" in s]\n",
    "#signal = [s for s in files if \"GluGluToHHTo2B2G_node_SM\" in s]\n",
    "diphotonJets = [s for s in files if \"DiPhotonJetsBox_\" in s]\n",
    "gJets_lowPt = [s for s in files if \"GJet_Pt-20to40\" in s]\n",
    "gJets_highPt = [s for s in files if \"GJet_Pt-40\" in s]\n",
    "#ggH = [s for s in files if \"GluGluHToGG\" in s]\n",
    "#vbf = [s for s in files if \"VBFHToGG\" in s]\n",
    "#VH = [s for s in files if \"VHToGG\" in s]\n",
    "#bbH = [s for s in files if \"bbHToGG_M-125_4FS_yb2\" in s] #is this correct?\n",
    "#ttH = [s for s in files if \"ttHToGG\" in s]\n",
    "\n",
    "#Data= [s for s in files if \"DoubleEG_2016.root\" in s]\n",
    "#Data= [s for s in files if \"DoubleEG_2017.root\" in s]\n",
    "Data= [s for s in files if \"DoubleEG_2017_st_cuts.root\" in s]\n",
    "#Data= [s for s in files if \"DoubleEG_2017_st_cuts_ptMjj.root\" in s]\n",
    "#Data= [s for s in files if \"DoubleEG.root\" in s]\n",
    "#Data= [s for s in files if \"DoubleEG\" in s]\n",
    "\n",
    "utils.IO.add_signal(ntuples,signal,1)\n",
    "print diphotonJets\n",
    "utils.IO.add_background(ntuples,diphotonJets,-1)\n",
    "utils.IO.add_background(ntuples,gJets_lowPt,-2)\n",
    "utils.IO.add_background(ntuples,gJets_highPt,-2)\n",
    "#utils.IO.add_background(ntuples,ggH,-3)\n",
    "#utils.IO.add_background(ntuples,vbf,-4)\n",
    "#utils.IO.add_background(ntuples,VH,-5)\n",
    "#utils.IO.add_background(ntuples,bbH,-6)\n",
    "#utils.IO.add_background(ntuples,ttH,-7)\n",
    "\n",
    "nBkg = len(utils.IO.backgroundName)\n",
    "\n",
    "utils.IO.add_data(ntuples,Data,-10)\n",
    "\n",
    "#add all nodes\n",
    "nodes = []\n",
    "#for i in range(2,14):\n",
    "#    nodes.append([s for s in files if \"output_GluGluToHHTo2B2G_node_SM_13TeV-madgraph_2016\"+str(i) in s])\n",
    "##    nodes.append([s for s in files if \"GluGluToHHTo2B2G_node_\"+str(i) in s])\n",
    "for i in range(len(utils.IO.backgroundName),len(utils.IO.backgroundName)+len(nodes)):\n",
    "    utils.IO.add_background(ntuples,nodes[i-nBkg],-i) \n",
    "    \n",
    "\n",
    "for i in range(len(utils.IO.backgroundName)):        \n",
    "    print \"using background file n.\"+str(i)+\": \"+utils.IO.backgroundName[i]\n",
    "for i in range(len(utils.IO.signalName)):    \n",
    "    print \"using signal file n.\"+str(i)+\": \"+utils.IO.signalName[i]\n",
    "print \"using data file: \"+ utils.IO.dataName[0]\n"
   ]
  },
  {
   "cell_type": "code",
   "execution_count": 3,
   "metadata": {},
   "outputs": [
    {
     "name": "stdout",
     "output_type": "stream",
     "text": [
      "['absCosThetaStar_CS', 'absCosTheta_bb', 'absCosTheta_gg', 'PhoJetMinDr', 'customLeadingPhotonIDMVA', 'customSubLeadingPhotonIDMVA', 'leadingJet_DeepCSV', 'subleadingJet_DeepCSV', 'leadingPhotonSigOverE', 'subleadingPhotonSigOverE', 'sigmaMOverM', 'diphotonCandidatePtOverdiHiggsM', 'dijetCandidatePtOverdiHiggsM', 'leadingJet_bRegNNResolution', 'subleadingJet_bRegNNResolution', 'noexpand:sigmaMJets/Mjj']\n",
      "using tree:bbggSelectionTree\n"
     ]
    }
   ],
   "source": [
    "#use noexpand for root expressions, it needs this file https://github.com/ibab/root_pandas/blob/master/root_pandas/readwrite.py\n",
    "#all the branches you want to save in new trees\n",
    "#mva variables\n",
    "#branch_names = 'leadingJet_bDis,subleadingJet_bDis,noexpand:fabs(CosThetaStar_CS),noexpand:fabs(CosTheta_bb),noexpand:fabs(CosTheta_gg)'.split(\",\")\n",
    "#branch_names += 'noexpand:diphotonCandidate.Pt()/diHiggsCandidate.M(),noexpand:dijetCandidate.Pt()/diHiggsCandidate.M()'.split(\",\")\n",
    "#branch_names += 'customLeadingPhotonIDMVA,customSubLeadingPhotonIDMVA,leadingPhotonSigOverE,subleadingPhotonSigOverE,sigmaMOverMDecorr,PhoJetMinDr'.split(\",\")\n",
    "#standart of input values \n",
    "branch_names = 'absCosThetaStar_CS,absCosTheta_bb,absCosTheta_gg,PhoJetMinDr,customLeadingPhotonIDMVA,customSubLeadingPhotonIDMVA,leadingJet_DeepCSV,subleadingJet_DeepCSV,leadingPhotonSigOverE,subleadingPhotonSigOverE,sigmaMOverM,diphotonCandidatePtOverdiHiggsM,dijetCandidatePtOverdiHiggsM,leadingJet_bRegNNResolution,subleadingJet_bRegNNResolution,noexpand:sigmaMJets/Mjj'.split(\",\")\n",
    "#st values with adding pt_gg/m_gg\n",
    "#branch_names = 'absCosThetaStar_CS,absCosTheta_bb,absCosTheta_gg,PhoJetMinDr,customLeadingPhotonIDMVA,customSubLeadingPhotonIDMVA,leadingJet_DeepCSV,subleadingJet_DeepCSV,leadingPhotonSigOverE,subleadingPhotonSigOverE,sigmaMOverM,diphotonCandidatePtOverdiHiggsM,dijetCandidatePtOverdiHiggsM,leadingJet_bRegNNResolution,subleadingJet_bRegNNResolution,noexpand:sigmaMJets/Mjj,noexpand:leadingPhoton_pt/CMS_hgg_mass,noexpand:subleadingPhoton_pt/CMS_hgg_mass'.split(\",\")\n",
    "#st values with adding pt_gg/m_gg, pt_jj/M_jj\n",
    "#branch_names = 'absCosThetaStar_CS,absCosTheta_bb,absCosTheta_gg,PhoJetMinDr,customLeadingPhotonIDMVA,customSubLeadingPhotonIDMVA,leadingJet_DeepCSV,subleadingJet_DeepCSV,leadingPhotonSigOverE,subleadingPhotonSigOverE,sigmaMOverM,diphotonCandidatePtOverdiHiggsM,dijetCandidatePtOverdiHiggsM,leadingJet_bRegNNResolution,subleadingJet_bRegNNResolution,noexpand:sigmaMJets/Mjj,noexpand:leadingPhoton_pt/CMS_hgg_mass,noexpand:subleadingPhoton_pt/CMS_hgg_mass,noexpand:leadingJet_pt/Mjj,noexpand:subleadingJet_pt/Mjj,PhoJetotherDr'.split(\",\")\n",
    "\n",
    "#mva output\n",
    "#branch_names = 'HHTagger2017'.split(\",\")\n",
    "#additional variables\n",
    "#branch_names += 'noexpand:diphotonCandidate.M(),noexpand:dijetCandidate.M(),MX,isSignal'.split(\",\")\n",
    "\n",
    "\n",
    "#branch_names = 'leadingJet_bDis,subleadingJet_bDis,noexpand:fabs(CosThetaStar_CS),noexpand:fabs(CosTheta_bb),noexpand:fabs(CosTheta_gg),noexpand:diphotonCandidate.Pt()/diHiggsCandidate.M(),noexpand:dijetCandidate.Pt()/diHiggsCandidate.M()'.split(\",\")\n",
    "branch_names = [c.strip() for c in branch_names]\n",
    "print branch_names\n",
    "\n",
    "import pandas as pd\n",
    "import root_pandas as rpd\n",
    "\n",
    "# no need to shuffle here, we just count events\n",
    "preprocessing.set_signals_and_backgrounds(\"bbggSelectionTree\",branch_names,shuffle=False)\n",
    "X_bkg,y_bkg,weights_bkg,X_sig,y_sig,weights_sig=preprocessing.set_variables(branch_names)\n",
    "\n",
    "X_data,y_data,weights_data = preprocessing.set_data(\"bbggSelectionTree\",branch_names)\n",
    "X_data,y_data,weights_data = preprocessing.clean_signal_events_single_dataset(X_data,y_data,weights_data)\n",
    "\n",
    "#bbggTrees have by default signal and CR events, let's be sure that we clean it\n",
    "X_bkg,y_bkg,weights_bkg,X_sig,y_sig,weights_sig=preprocessing.clean_signal_events(X_bkg,y_bkg,weights_bkg,X_sig,y_sig,weights_sig)\n",
    "\n",
    "#np.savetxt('/tmp/micheli/xbkg.txt',X_bkg)\n",
    "#preprocessing.adjust_and_compress(utils.IO.background_df[0]).to_csv('/tmp/micheli/bkg.csv')\n"
   ]
  },
  {
   "cell_type": "code",
   "execution_count": 4,
   "metadata": {},
   "outputs": [
    {
     "name": "stdout",
     "output_type": "stream",
     "text": [
      "3\n",
      "bkg n:0\n",
      "[[2.2119e-01 4.7644e-01 1.1353e-01 ... 1.0899e-01 1.7727e-01 1.3300e-03]\n",
      " [2.3854e-01 9.5990e-02 8.3316e-01 ... 1.8306e-01 2.0960e-01 1.3400e-03]\n",
      " [9.8966e-01 8.2253e-01 5.5952e-01 ... 1.8843e-01 2.3501e-01 1.2200e-03]\n",
      " ...\n",
      " [8.7899e-01 8.4999e-01 1.7474e-01 ... 7.4670e-02 1.2272e-01 8.3000e-04]\n",
      " [6.8217e-01 7.1715e-01 4.8720e-01 ... 1.1565e-01 1.2722e-01 1.1700e-03]\n",
      " [8.8682e-01 1.0089e-01 6.3458e-01 ... 1.4684e-01 2.2737e-01 1.3400e-03]]\n",
      "bkg n:1\n",
      "[[9.9026e-01 5.6159e-01 8.0018e-01 ... 1.3113e-01 1.9154e-01 1.4000e-03]\n",
      " [9.5891e-01 3.3826e-01 6.2518e-01 ... 8.3750e-02 1.3325e-01 1.0700e-03]\n",
      " [9.9282e-01 7.4376e-01 6.4932e-01 ... 1.5585e-01 1.5220e-01 1.1900e-03]\n",
      " ...\n",
      " [5.3567e-01 3.3536e-01 9.7200e-03 ... 1.3058e-01 2.4426e-01 1.9100e-03]\n",
      " [1.2440e-02 7.1980e-02 5.5980e-01 ... 5.6430e-02 1.6635e-01 6.1000e-04]\n",
      " [9.5584e-01 7.9608e-01 6.6779e-01 ... 1.3554e-01 2.6176e-01 1.1900e-03]]\n",
      "[0.99687362 0.99710578 0.99812561 ... 0.96513414 0.98242235 0.94441837]\n",
      "0\n",
      "1\n",
      "[0.01019972 0.01405863 0.85554278 ... 0.00250404 0.12581587 0.00105606]\n"
     ]
    }
   ],
   "source": [
    "# load the model from disk\n",
    "from sklearn.externals import joblib\n",
    "#loaded_model = joblib.load(os.path.expanduser('~/HHbbgg_ETH_devel/Training/output_files/allMC_resWeighting_F_noDR_minDRGJet.pkl'))\n",
    "#loaded_model = joblib.load(os.path.expanduser('/home/ovtin/cernbox/HHggbb/HHbbgg_ETH_devel/Training/output_files/simlple_Test_binary.pkl'))\n",
    "#st\n",
    "loaded_model = joblib.load(os.path.expanduser('/home/ovtin/cernbox/HHggbb/HHbbgg_ETH_devel/Training/plots/st_MCbkg/simlple_Test_binary_st.pkl'))\n",
    "#st with add ptMgg\n",
    "#loaded_model = joblib.load(os.path.expanduser('/home/ovtin/cernbox/HHggbb/HHbbgg_ETH_devel/Training/plots/st_ptmgg_MCbkg/simlple_Test_binary_st.pkl'))\n",
    "#st with add ptMgg+ptMjj+dR\n",
    "#loaded_model = joblib.load(os.path.expanduser('/home/ovtin/cernbox/HHggbb/HHbbgg_ETH_devel/Training/plots/st_ptmgg_ptmjj_r_MCbkg/simlple_Test_binary_st.pkl'))\n",
    "\n",
    "print len(utils.IO.backgroundName)\n",
    "bkg = []\n",
    "for i in range(0,len(utils.IO.backgroundName)-1): \n",
    "    print \"bkg n:\"+str(i)\n",
    "    print X_bkg[y_bkg ==-i-1]\n",
    "    bkg.append(X_bkg[y_bkg ==-i-1])\n",
    "\n",
    "\n",
    "Y_pred_sig = loaded_model.predict_proba(X_sig)[:,loaded_model.n_classes_-1].astype(np.float64)\n",
    "print Y_pred_sig \n",
    "Y_pred_bkg = []\n",
    "for i in range(0,len(utils.IO.backgroundName)-1):  \n",
    "    print i\n",
    "    Y_pred_bkg.append(loaded_model.predict_proba(bkg[i])[:,loaded_model.n_classes_-1].astype(np.float64))\n",
    "#Y_pred_bkg = loaded_model.predict_proba(X_bkg)[:,loaded_model.n_classes_-1].astype(np.float64)\n",
    "\n",
    "Y_pred_data = loaded_model.predict_proba(X_data)[:,loaded_model.n_classes_-1].astype(np.float64)\n",
    "print Y_pred_data "
   ]
  },
  {
   "cell_type": "code",
   "execution_count": 5,
   "metadata": {},
   "outputs": [],
   "source": [
    "#define MVA cut and additional variables needed\n",
    "import os\n",
    "#st\n",
    "additionalCut_names = 'noexpand:leadingPhoton_pt/CMS_hgg_mass,noexpand:subleadingPhoton_pt/CMS_hgg_mass,MX'.split(\",\")\n",
    "#st + ptMjj+dR\n",
    "#additionalCut_names = 'MX'.split(\",\")\n",
    "#additionalCut_names = 'noexpand:diphotonCandidate.M(),noexpand:dijetCandidate.M(),MX,isSignal'.split(\",\")\n",
    "#additionalCut_names += 'HHTagger2017'.split(\",\")\n",
    "outTag = 'output_files'\n",
    "outDir=os.path.expanduser(\"/home/ovtin/cernbox/HHggbb/HHbbgg_ETH_devel/Training/\"+outTag)\n",
    "if not os.path.exists(outDir):\n",
    "    os.mkdir(outDir)"
   ]
  },
  {
   "cell_type": "code",
   "execution_count": 6,
   "metadata": {},
   "outputs": [
    {
     "name": "stdout",
     "output_type": "stream",
     "text": [
      "Y_pred\n",
      "(121837,)\n"
     ]
    }
   ],
   "source": [
    "sig_count_df = rpd.read_root(utils.IO.signalName[0],\"bbggSelectionTree\", columns = branch_names+additionalCut_names)\n",
    "preprocessing.define_process_weight(sig_count_df,utils.IO.sigProc[0],utils.IO.signalName[0])\n",
    "\n",
    "#nTot is a multidim vector with all additional variables, dictVar is a dictionary associating a name of the variable\n",
    "#to a position in the vector\n",
    "nTot,dictVar = postprocessing.stackFeatures(sig_count_df,branch_names+additionalCut_names)\n",
    "#apply isSignal cleaning\n",
    "nCleaned = nTot[np.where(nTot[:,dictVar['weight']]!=0),:][0]\n",
    "print \"Y_pred\"\n",
    "print Y_pred_sig.shape\n",
    "\n",
    "#it's a stupid way to save also mva output after cuts, more efficient solutions should be found\n",
    "Y_pred_total = np.column_stack((nCleaned,Y_pred_sig))\n",
    "\n",
    "processPath=os.path.expanduser('/home/ovtin/cernbox/HHggbb/HHbbgg_ETH_devel/Training/')+outTag+'/'+utils.IO.signalName[0].split(\"/\")[len(utils.IO.signalName[0].split(\"/\"))-1].replace(\"output_\",\"\").replace(\".root\",\"\")+\"_preselection\"+\".root\"\n",
    "postprocessing.saveTree(processPath,dictVar,nCleaned,Y_pred_sig)\n",
    "\n",
    "processPath=os.path.expanduser('/home/ovtin/cernbox/HHggbb/HHbbgg_ETH_devel/Training/')+outTag+'/'+utils.IO.signalName[0].split(\"/\")[len(utils.IO.signalName[0].split(\"/\"))-1].replace(\"output_\",\"\").replace(\".root\",\"\")+\"_preselection_diffNaming\"+\".root\"\n",
    "postprocessing.saveTree(processPath,dictVar,nCleaned,Y_pred_sig,nameTree=\"reducedTree_sig\")\n"
   ]
  },
  {
   "cell_type": "code",
   "execution_count": 7,
   "metadata": {},
   "outputs": [
    {
     "name": "stdout",
     "output_type": "stream",
     "text": [
      "(1262, 20)\n",
      "(75721, 20)\n",
      "nCleaned\n",
      "(75721, 20)\n"
     ]
    }
   ],
   "source": [
    "## do gJets not in the loop since they have two samples for one process\n",
    "bkg_1_count_df = rpd.read_root(utils.IO.backgroundName[1],\"bbggSelectionTree\", columns = branch_names+additionalCut_names)\n",
    "preprocessing.define_process_weight(bkg_1_count_df,utils.IO.bkgProc[1],utils.IO.backgroundName[1])\n",
    "\n",
    "crazySF_20=25\n",
    "nTot,dictVar = postprocessing.stackFeatures(bkg_1_count_df,branch_names+additionalCut_names,SF=crazySF_20)\n",
    "\n",
    "print nTot.shape\n",
    "\n",
    "bkg_2_count_df = rpd.read_root(utils.IO.backgroundName[2],\"bbggSelectionTree\", columns = branch_names+additionalCut_names)\n",
    "preprocessing.define_process_weight(bkg_2_count_df,utils.IO.bkgProc[2],utils.IO.backgroundName[2])\n",
    "\n",
    "crazySF_40=3\n",
    "nTot_2,dictVar = postprocessing.stackFeatures(bkg_2_count_df,branch_names+additionalCut_names,SF=crazySF_40)\n",
    "\n",
    "nTot_3 = np.concatenate((nTot,nTot_2))\n",
    "#nTot_3 = nTot\n",
    "\n",
    "print nTot_3.shape\n",
    "#apply isSignal cleaning\n",
    "nCleaned = nTot_3[np.where(nTot_3[:,dictVar['weight']]!=0),:][0]\n",
    "print \"nCleaned\"\n",
    "print nCleaned.shape\n",
    "\n",
    "processPath=(os.path.expanduser('/home/ovtin/cernbox/HHggbb/HHbbgg_ETH_devel/Training/')+outTag+'/'+utils.IO.backgroundName[1].split(\"/\")[len(utils.IO.backgroundName[1].split(\"/\"))-1].replace(\"output_\",\"\").replace(\".root\",\"\")+\"_preselection\"+\".root\").replace(\"_Pt-20to40\",\"\")\n",
    "postprocessing.saveTree(processPath,dictVar,nCleaned,Y_pred_bkg[1])\n",
    "#postprocessing.saveTree(processPath,dictVar,nCleaned,Y_pred_bkg)\n",
    "\n",
    "processPath=(os.path.expanduser('/home/ovtin/cernbox/HHggbb/HHbbgg_ETH_devel/Training/')+outTag+'/'+utils.IO.backgroundName[1].split(\"/\")[len(utils.IO.backgroundName[1].split(\"/\"))-1].replace(\"output_\",\"\").replace(\".root\",\"\")+\"_preselection_diffNaming\"+\".root\").replace(\"_Pt-20to40\",\"\")\n",
    "#postprocessing.saveTree(processPath,dictVar,nCleaned,Y_pred_bkg,nameTree=\"reducedTree_bkg_2\")\n",
    "postprocessing.saveTree(processPath,dictVar,nCleaned,Y_pred_bkg[1],nameTree=\"reducedTree_bkg_2\")\n"
   ]
  },
  {
   "cell_type": "code",
   "execution_count": 8,
   "metadata": {},
   "outputs": [
    {
     "name": "stdout",
     "output_type": "stream",
     "text": [
      "Processing sample: 0\n",
      "nCleaned\n",
      "(1482238, 20)\n"
     ]
    }
   ],
   "source": [
    "for iProcess in range(0,len(utils.IO.backgroundName)):\n",
    "    ##gJets which are two samples for one process are skipped\n",
    "    iSample=iProcess\n",
    "    if iProcess == 1 or iProcess ==2:\n",
    "            continue\n",
    "    if iProcess > 2:\n",
    "        iSample = iProcess-1\n",
    "    \n",
    "    print \"Processing sample: \"+str(iProcess)\n",
    "    bkg_count_df = rpd.read_root(utils.IO.backgroundName[iProcess],\"bbggSelectionTree\", columns = branch_names+additionalCut_names)\n",
    "    preprocessing.define_process_weight(bkg_count_df,utils.IO.bkgProc[iProcess],utils.IO.backgroundName[iProcess])\n",
    "\n",
    "    crazySF=1\n",
    "    ##scale diphoton + jets\n",
    "    if iProcess == 0:\n",
    "        crazySF=1.45\n",
    "    nTot,dictVar = postprocessing.stackFeatures(bkg_count_df,branch_names+additionalCut_names,SF=crazySF)\n",
    "\n",
    "\n",
    "    nCleaned = nTot[np.where(nTot[:,dictVar['weight']]!=0),:][0]\n",
    "    print \"nCleaned\"\n",
    "    print nCleaned.shape\n",
    "\n",
    "    processPath=os.path.expanduser('/home/ovtin/cernbox/HHggbb/HHbbgg_ETH_devel/Training/')+outTag+'/'+utils.IO.backgroundName[iProcess].split(\"/\")[len(utils.IO.backgroundName[2].split(\"/\"))-1].replace(\"output_\",\"\").replace(\".root\",\"\")+\"_preselection\"+\".root\"\n",
    "    postprocessing.saveTree(processPath,dictVar,nCleaned,Y_pred_bkg[iSample])    \n",
    "#    processPath=os.path.expanduser('/home/ovtin/cernbox/HHggbb/HHbbgg_ETH_devel/Training/')+outTag+'/'+utils.IO.backgroundName[iProcess].split(\"/\")[len(utils.IO.backgroundName[0].split(\"/\"))-1].replace(\"output_\",\"\").replace(\".root\",\"\")+\"_preselection\"+\".root\"\n",
    "#    postprocessing.saveTree(processPath,dictVar,nCleaned,Y_pred_bkg)\n",
    "\n",
    "    processPath=os.path.expanduser('/home/ovtin/cernbox/HHggbb/HHbbgg_ETH_devel/Training/')+outTag+'/'+utils.IO.backgroundName[iProcess].split(\"/\")[len(utils.IO.backgroundName[2].split(\"/\"))-1].replace(\"output_\",\"\").replace(\".root\",\"\")+\"_preselection_diffNaming\"+\".root\"\n",
    "    #processPath=os.path.expanduser('/home/ovtin/cernbox/HHggbb/HHbbgg_ETH_devel/Training/')+outTag+'/'+utils.IO.backgroundName[iProcess].split(\"/\")[len(utils.IO.backgroundName[0].split(\"/\"))-1].replace(\"output_\",\"\").replace(\".root\",\"\")+\"_preselection_diffNaming\"+\".root\"\n",
    "#    if \"GluGluToHHTo2B2G_node_\"in processPath:\n",
    "    if \"GluGluToHHTo2B2G_node_SM_13TeV_madgraph_13TeV_DoubleHTag_0\"in processPath:\n",
    "        treeName = \"reducedTree_sig_node_\"+str(iProcess-6)\n",
    "    else:\n",
    "        treeName = \"reducedTree_bkg_\"+str(iProcess)\n",
    "    \n",
    "    postprocessing.saveTree(processPath,dictVar,nCleaned,Y_pred_bkg[iSample],nameTree=treeName)    \n",
    "#    postprocessing.saveTree(processPath,dictVar,nCleaned,Y_pred_bkg,nameTree=treeName)"
   ]
  },
  {
   "cell_type": "code",
   "execution_count": 9,
   "metadata": {},
   "outputs": [
    {
     "name": "stdout",
     "output_type": "stream",
     "text": [
      "nCleaned\n",
      "(269198, 20)\n",
      "(269198,)\n"
     ]
    },
    {
     "ename": "IOError",
     "evalue": "cannot open file /home/ovtin/HHbbgg_ETH_devel/outfiles/output_files/DoubleEG_2017_st_cuts_preselection_diffNaming.root",
     "output_type": "error",
     "traceback": [
      "\u001b[0;31m\u001b[0m",
      "\u001b[0;31mIOError\u001b[0mTraceback (most recent call last)",
      "\u001b[0;32m<ipython-input-9-f48abc28e450>\u001b[0m in \u001b[0;36m<module>\u001b[0;34m()\u001b[0m\n\u001b[1;32m     14\u001b[0m \u001b[0;34m\u001b[0m\u001b[0m\n\u001b[1;32m     15\u001b[0m \u001b[0mprocessPath\u001b[0m\u001b[0;34m=\u001b[0m\u001b[0mos\u001b[0m\u001b[0;34m.\u001b[0m\u001b[0mpath\u001b[0m\u001b[0;34m.\u001b[0m\u001b[0mexpanduser\u001b[0m\u001b[0;34m(\u001b[0m\u001b[0;34m'~/HHbbgg_ETH_devel/outfiles/'\u001b[0m\u001b[0;34m)\u001b[0m\u001b[0;34m+\u001b[0m\u001b[0moutTag\u001b[0m\u001b[0;34m+\u001b[0m\u001b[0;34m'/'\u001b[0m\u001b[0;34m+\u001b[0m\u001b[0mutils\u001b[0m\u001b[0;34m.\u001b[0m\u001b[0mIO\u001b[0m\u001b[0;34m.\u001b[0m\u001b[0mdataName\u001b[0m\u001b[0;34m[\u001b[0m\u001b[0;36m0\u001b[0m\u001b[0;34m]\u001b[0m\u001b[0;34m.\u001b[0m\u001b[0msplit\u001b[0m\u001b[0;34m(\u001b[0m\u001b[0;34m\"/\"\u001b[0m\u001b[0;34m)\u001b[0m\u001b[0;34m[\u001b[0m\u001b[0mlen\u001b[0m\u001b[0;34m(\u001b[0m\u001b[0mutils\u001b[0m\u001b[0;34m.\u001b[0m\u001b[0mIO\u001b[0m\u001b[0;34m.\u001b[0m\u001b[0mdataName\u001b[0m\u001b[0;34m[\u001b[0m\u001b[0;36m0\u001b[0m\u001b[0;34m]\u001b[0m\u001b[0;34m.\u001b[0m\u001b[0msplit\u001b[0m\u001b[0;34m(\u001b[0m\u001b[0;34m\"/\"\u001b[0m\u001b[0;34m)\u001b[0m\u001b[0;34m)\u001b[0m\u001b[0;34m-\u001b[0m\u001b[0;36m1\u001b[0m\u001b[0;34m]\u001b[0m\u001b[0;34m.\u001b[0m\u001b[0mreplace\u001b[0m\u001b[0;34m(\u001b[0m\u001b[0;34m\"output_\"\u001b[0m\u001b[0;34m,\u001b[0m\u001b[0;34m\"\"\u001b[0m\u001b[0;34m)\u001b[0m\u001b[0;34m.\u001b[0m\u001b[0mreplace\u001b[0m\u001b[0;34m(\u001b[0m\u001b[0;34m\".root\"\u001b[0m\u001b[0;34m,\u001b[0m\u001b[0;34m\"\"\u001b[0m\u001b[0;34m)\u001b[0m\u001b[0;34m+\u001b[0m\u001b[0;34m\"_preselection_diffNaming\"\u001b[0m\u001b[0;34m+\u001b[0m\u001b[0;34m\".root\"\u001b[0m\u001b[0;34m\u001b[0m\u001b[0m\n\u001b[0;32m---> 16\u001b[0;31m \u001b[0mpostprocessing\u001b[0m\u001b[0;34m.\u001b[0m\u001b[0msaveTree\u001b[0m\u001b[0;34m(\u001b[0m\u001b[0mprocessPath\u001b[0m\u001b[0;34m,\u001b[0m\u001b[0mdictVar\u001b[0m\u001b[0;34m,\u001b[0m\u001b[0mnCleaned\u001b[0m\u001b[0;34m,\u001b[0m\u001b[0mY_pred_data\u001b[0m\u001b[0;34m,\u001b[0m\u001b[0mnameTree\u001b[0m\u001b[0;34m=\u001b[0m\u001b[0;34m\"reducedTree_bkg\"\u001b[0m\u001b[0;34m)\u001b[0m\u001b[0;34m\u001b[0m\u001b[0m\n\u001b[0m",
      "\u001b[0;32m/home/ovtin/cernbox/HHggbb/HHbbgg_ETH_devel/Training/python/postprocessing_utils.pyc\u001b[0m in \u001b[0;36msaveTree\u001b[0;34m(processPath, dictVar, vector, MVAVector, SF, nameTree)\u001b[0m\n\u001b[1;32m     81\u001b[0m \u001b[0;34m\u001b[0m\u001b[0m\n\u001b[1;32m     82\u001b[0m \u001b[0;34m\u001b[0m\u001b[0m\n\u001b[0;32m---> 83\u001b[0;31m          \u001b[0marray2root\u001b[0m\u001b[0;34m(\u001b[0m\u001b[0mv\u001b[0m\u001b[0;34m,\u001b[0m \u001b[0mprocessPath\u001b[0m\u001b[0;34m,\u001b[0m \u001b[0mnameTree\u001b[0m\u001b[0;34m,\u001b[0m \u001b[0mmode\u001b[0m \u001b[0;34m=\u001b[0m \u001b[0mwriteMode\u001b[0m\u001b[0;34m)\u001b[0m\u001b[0;34m\u001b[0m\u001b[0m\n\u001b[0m\u001b[1;32m     84\u001b[0m \u001b[0;34m\u001b[0m\u001b[0m\n\u001b[1;32m     85\u001b[0m     \u001b[0;32mif\u001b[0m \u001b[0mMVAVector\u001b[0m \u001b[0;32mis\u001b[0m \u001b[0;32mnot\u001b[0m \u001b[0mNone\u001b[0m\u001b[0;34m:\u001b[0m\u001b[0;34m\u001b[0m\u001b[0m\n",
      "\u001b[0;32m/home/ovtin/.local/lib/python2.7/site-packages/root_numpy/_tree.pyc\u001b[0m in \u001b[0;36marray2root\u001b[0;34m(arr, filename, treename, mode)\u001b[0m\n\u001b[1;32m    635\u001b[0m \u001b[0;34m\u001b[0m\u001b[0m\n\u001b[1;32m    636\u001b[0m     \"\"\"\n\u001b[0;32m--> 637\u001b[0;31m     \u001b[0m_librootnumpy\u001b[0m\u001b[0;34m.\u001b[0m\u001b[0marray2root\u001b[0m\u001b[0;34m(\u001b[0m\u001b[0marr\u001b[0m\u001b[0;34m,\u001b[0m \u001b[0mfilename\u001b[0m\u001b[0;34m,\u001b[0m \u001b[0mtreename\u001b[0m\u001b[0;34m,\u001b[0m \u001b[0mmode\u001b[0m\u001b[0;34m)\u001b[0m\u001b[0;34m\u001b[0m\u001b[0m\n\u001b[0m",
      "\u001b[0;32mroot_numpy/src/tree.pyx\u001b[0m in \u001b[0;36m_librootnumpy.array2root\u001b[0;34m()\u001b[0m\n",
      "\u001b[0;31mIOError\u001b[0m: cannot open file /home/ovtin/HHbbgg_ETH_devel/outfiles/output_files/DoubleEG_2017_st_cuts_preselection_diffNaming.root"
     ]
    },
    {
     "name": "stderr",
     "output_type": "stream",
     "text": [
      "SysError in <TFile::TFile>: file /home/ovtin/HHbbgg_ETH_devel/outfiles/output_files/DoubleEG_2017_st_cuts_preselection_diffNaming.root can not be opened (No such file or directory)\n"
     ]
    }
   ],
   "source": [
    "data_count_df = rpd.read_root(utils.IO.dataName[0],\"bbggSelectionTree\", columns = branch_names+additionalCut_names)\n",
    "\n",
    "nTot,dictVar = postprocessing.stackFeatures(data_count_df,branch_names+additionalCut_names,isData=1)\n",
    "\n",
    "#apply isSignal cleaning\n",
    "#nCleaned = nTot[np.where(nTot[:,dictVar['weight']]!=0),:][0]\n",
    "#print \"nCleaned\"\n",
    "#print nCleaned.shape\n",
    "#print Y_pred_data.shape\n",
    "\n",
    "#save preselection data\n",
    "#processPath=os.path.expanduser('/home/ovtin/cernbox/HHggbb/HHbbgg_ETH_devel/Training/')+outTag+'/'+utils.IO.dataName[0].split(\"/\")[len(utils.IO.dataName[0].split(\"/\"))-1].replace(\"output_\",\"\").replace(\".root\",\"\")+\"_preselection\"+\".root\"\n",
    "#postprocessing.saveTree(processPath,dictVar,nCleaned,Y_pred_data)\n",
    "\n",
    "#processPath=os.path.expanduser('~/HHbbgg_ETH_devel/outfiles/')+outTag+'/'+utils.IO.dataName[0].split(\"/\")[len(utils.IO.dataName[0].split(\"/\"))-1].replace(\"output_\",\"\").replace(\".root\",\"\")+\"_preselection_diffNaming\"+\".root\"\n",
    "#postprocessing.saveTree(processPath,dictVar,nCleaned,Y_pred_data,nameTree=\"reducedTree_bkg\")"
   ]
  },
  {
   "cell_type": "code",
   "execution_count": null,
   "metadata": {},
   "outputs": [],
   "source": [
    "#from subprocess import call\n",
    "#call([\"hadd\",\"daje.root *diffNaming.root\"])\n",
    "print \"cd \"+os.path.expanduser('/home/ovtin/cernbox/HHggbb/HHbbgg_ETH_devel/Training/')+outTag\n",
    "os.system('hadd '+ os.path.expanduser('/home/ovtin/cernbox/HHggbb/HHbbgg_ETH_devel/Training/')+outTag+'/'+'Total_preselection_diffNaming.root '+ os.path.expanduser('/home/ovtin/cernbox/HHggbb/HHbbgg_ETH_devel/Training/')+outTag+'/'+'*diffNaming.root')"
   ]
  },
  {
   "cell_type": "code",
   "execution_count": null,
   "metadata": {},
   "outputs": [],
   "source": []
  }
 ],
 "metadata": {
  "anaconda-cloud": {},
  "kernelspec": {
   "display_name": "Python 2",
   "language": "python",
   "name": "python2"
  },
  "language_info": {
   "codemirror_mode": {
    "name": "ipython",
    "version": 2
   },
   "file_extension": ".py",
   "mimetype": "text/x-python",
   "name": "python",
   "nbconvert_exporter": "python",
   "pygments_lexer": "ipython2",
   "version": "2.7.12"
  }
 },
 "nbformat": 4,
 "nbformat_minor": 1
}
